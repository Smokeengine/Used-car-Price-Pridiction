{
 "cells": [
  {
   "cell_type": "markdown",
   "metadata": {},
   "source": [
    "# USED CARS PRICE PREDICTION"
   ]
  },
  {
   "cell_type": "markdown",
   "metadata": {},
   "source": [
    "*by Anurag Vemula , Sahithya Gandu, December 11, 2024* \n"
   ]
  },
  {
   "cell_type": "markdown",
   "metadata": {},
   "source": [
    "## **Introduction**"
   ]
  },
  {
   "cell_type": "markdown",
   "metadata": {},
   "source": [
    "With a worldwide market worth of over $800 billion, the used automobile industry confronts a significant pricing determination difficulty. Significant price differences and market inefficiencies result from traditional pricing techniques, which sometimes depend on arbitrary judgments and crude depreciation estimates. Several parties are impacted by this discrepancy between ideal and reality pricing: purchasers face the risk of overpaying, sellers find it difficult to provide competitive prices, and financial institutions have trouble accurately valuing vehicles for insurance and loans.\n",
    "\n",
    "Our study uses a cutting-edge machine learning method to anticipate car prices in order to overcome these difficulties. We make use of a large dataset of 426,880 car listings with 26 unique parameters, such as location, mileage, manufacturer, model, condition, and other technical details. The development of advanced prediction models that capture intricate market dynamics and vehicle attributes is made possible by this vast information.\n",
    "Several important machine learning ideas and techniques are included in the technological implementation:\n",
    "\n",
    "Sophisticated data preparation methods for managing numerical and mixed category data\n",
    "Using feature engineering to record patterns of car depreciation and market changes across time\n",
    "Ensemble techniques, especially Random Forest Regression with hyperparameter optimization\n",
    "Using TruncatedSVD to reduce dimensionality in order to manage high-dimensional categorical data\n",
    "Pipeline architecture for reproducible and reliable model deployment\n",
    "\n",
    "Our strategy achieves a Root Mean Square Error (RMSE) of $3,719.33 and an R2 score of 0.9052, showing significant gains over conventional pricing techniques. Strong practical applicability across various vehicle categories and market situations is shown by these findings. The model's ability to handle pricing differences between manufacturers, vehicle conditions, and geographical marketplaces is quite impressive.\n",
    "\n",
    "The significance of this work extends beyond academic interest, offering practical applications for:\n",
    "<ol>\n",
    "<li>Customers looking for unbiased pricing standards for purchases and sales</li>\n",
    "<li>Dealerships in need of automated solutions for inventory pricing</li>\n",
    "<li>Accurate car appraisal tools are necessary for insurance firms.</li>\n",
    "<li>Financial organizations assessing assets and loans based on vehicles</li>\n",
    "<li>Market analysts monitoring segment dynamics and price patterns</li>\n",
    "</ol>\n",
    "\n",
    "Our research helps the used car market become more transparent and efficient by combining robust statistical techniques with useful commercial applications. The parts that follow go over our approach in depth, provide thorough findings, and talk about the consequences for different automotive industry stakeholders."
   ]
  },
  {
   "cell_type": "markdown",
   "metadata": {},
   "source": [
    "# **Methodology**"
   ]
  },
  {
   "cell_type": "markdown",
   "metadata": {},
   "source": [
    "## **Data Quality Assessment and Initial Processing**\n",
    "\n",
    "The initial evaluation of our vehicles.csv dataset encompassed comprehensive quality analysis and strategic data handling decisions. The dataset's 426,880 records required systematic assessment across 26 distinct features to ensure analytical robustness. Price and region fields demonstrated complete population rates, providing reliable foundations for our analysis. However, several features exhibited concerning completion patterns that necessitated strategic intervention.\n",
    "\n",
    "URL-related fields and geolocation coordinates, while showing high completion rates (99.9%), contributed minimal predictive value to our price estimation objective. This observation led to their exclusion from the feature set, streamlining our dataset without compromising predictive capability. The decision aligned with our goal of maintaining model efficiency while preserving essential price determinants.\n",
    "\n",
    "Temporal analysis revealed significant data concentration between 2015-2022, accounting for 75% of all listings. Earlier periods showed progressively sparse representation, with pre-2000 vehicles comprising only 5% of the dataset. This distribution pattern informed our implementation of a 1996 cutoff year, balancing historical representation with contemporary market relevance. The chosen threshold retained 92% of post-1995 vehicles while eliminating older listings that could introduce pricing anomalies.\n",
    "\n",
    "Vehicle specification completeness varied significantly across features. Transmission information showed 99.4% completion, while cylinder configuration data was available for only 58.38% of listings. Drive system information was missing in 30.58% of records, and paint color information was absent in 30.50% of entries. This pattern necessitated a hierarchical approach to data completeness.\n",
    "\n",
    "We established feature criticality tiers based on correlation with price and market significance. Primary features (year, manufacturer, odometer, model) required complete information for record retention. Secondary features underwent 'unknown' category assignment for missing values, preserving record count while acknowledging information gaps. This strategy maintained dataset integrity while maximizing usable records for model training.\n",
    "\n",
    "The quality assessment phase concluded with several key implementations:\n",
    "- Removal of 12 non-predictive columns\n",
    "- Establishment of completion thresholds for critical features\n",
    "- Development of a tiered missing value strategy\n",
    "- Implementation of temporal relevance criteria\n",
    "- Standardization of categorical value representations"
   ]
  },
  {
   "cell_type": "markdown",
   "metadata": {},
   "source": [
    "\n",
    "\n",
    "## **Data Preprocessing and Cleaning**\n",
    "\n",
    "\n",
    "The preparation stage started with a thorough analysis of our cars dataset, which had 426,880 entries in 26 different columns. A preliminary analysis identified a number of elements that were not necessary and could be eliminated without affecting predicted accuracy. In order to preserve 14 crucial parameters that are directly related to price prediction, we removed 12 columns, which included identification numbers, URLs, geographic locations, vehicle size, and state information.\n",
    "\n",
    "Significant data gaps were found across important vehicle features by our missing value analysis. The specifications for the cylinders (41.62%), vehicle condition (40.78%), drive system (30.58%), and paint color (30.50%) had the most significant missing data. We used a calculated two-phase strategy to close these gaps. First, we deleted any rows that lacked the manufacturer brand, model information, odometer readings, production year, and other crucial predictive data. To preserve data volume and analytical integrity, we allocated a 'unknown' category to the remaining missing variables.\n",
    "\n",
    "53,043 redundant records were found using duplicate entry analysis; they were rigorously eliminated to avoid data bias. 346,840 distinct car listings were produced as a consequence of this cleaning phase. After eliminating duplicates, we used the Interquartile Range (IQR) approach to apply a strong outlier control strategy, concentrating on two important numerical features: price and odometer readings. We set limits for pricing outliers by using the 15th percentile as the lower threshold and the upper limit (third quartile + 1.5 times IQR). Odometer readings were similarly constrained, with the 5th percentile serving as the bottom limit.\n",
    "\n",
    "The goal of categorical data optimization was to maintain market representation while lowering feature cardinality. Fewer models were consolidated into a 'others' category, but the top 50 car models were kept. Similarly, we simplified minority representations while capturing major market actors by keeping the top 20 manufacturer brands and the top 50 locations for geographic analysis. By excluding cars made before to 1996, we were able to assure temporal relevance and bring our dataset into line with current market realities.\n",
    "\n",
    "With 273,590 records at the end of the preparation phase, the original dataset was reduced by 35.91%. This notable decrease is a result of our prioritization on data dependability and quality above quantity. A strong basis for model building is provided by the comprehensive information present in every surviving record across all important aspects. The cleaned dataset removes noise and irregularities that can affect model performance while preserving thorough coverage across a variety of vehicle classifications.\n",
    "\n",
    "Despite lowering the dataset size, our rigorous preparation method guaranteed improved data quality and dependability for later modeling stages. The resulting dataset format created a strong basis for our machine learning implementation by striking a compromise between the need for precise price prediction and thorough market representation. Every preprocessing choice was carefully evaluated in light of how it will affect the model's functionality and practicality."
   ]
  },
  {
   "cell_type": "markdown",
   "metadata": {},
   "source": [
    "## **Feature Engineering and Transformation Strategy**\n",
    "\n",
    "The goal of the feature engineering step was to provide the best possible model input structure while converting the qualities of the raw data into more significant predictive variables. The development of a temporal component called \"car_age,\" which is determined by deducting the production year from 2022, was a crucial improvement. By converting absolute year numbers into relative age measures, this transformation made it possible to relate car depreciation trends more directly. The 0–25 age range successfully included both newer and older types of cars while excluding outlier situations that can distort forecasts.\n",
    "\n",
    "Two separate pipelines designed to handle numerical and categorical information were developed by the data transformation architecture. We used a complex two-step procedure for numerical characteristics, such as automobile age and odometer readings. When addressing missing data, the median imputation approach maintained distribution characteristics. Feature scales were then normalized by standardization. For odometer readings, which varied greatly throughout vehicle portions, this method worked very well.\n",
    "\n",
    "Because vehicle characteristics are different, categorical feature analysis required a more complex method. Manufacturing data (manufacturer, model), technical parameters (cylinders, fuel, transmission, drive), physical attributes (condition, type, paint_color), and market considerations (region, title_status) were all included in the eleven category categories. Our pipeline handled both missing data and the appearance of new categories during prediction by using constant-value imputation followed by one-hot encoding with uncertain category management.\n",
    "\n",
    "The success of the transformation technique was attributed to its capacity to manage the intricacies of the data while preserving interpretability. The standardization component of the numerical pipeline maintained the relative relevance of mileage differences while guaranteeing constant scale across features. For real-world applications where new car variations or geographical classifications can arise, the categorical pipeline's unknown-category handling offered resilience against values that had not yet been seen.\n",
    "\n",
    "The choices made for feature grouping demonstrated a thorough analysis of the connections between variables and how they affect price prediction. Whereas categorical elements included car specs and market positioning, numerical features recorded measurable depreciation causes. This grouping improved model interpretability and maintenance by enabling efficient processing while preserving the logical separation of various information kinds.\n",
    "\n",
    "The final feature transformation framework demonstrated several critical advantages:\n",
    "<ul>\n",
    "<li>Automated handling of missing values without manual intervention</li>\n",
    "<li>Standardized processing of both numerical and categorical inputs</li>\n",
    "<li>Scalable architecture supporting additional feature incorporation</li>\n",
    "<li>Robust handling of previously unseen categories during deployment</li>\n",
    "</ul>\n",
    "\n",
    "This engineered feature set provided a solid foundation for subsequent modeling phases, though future iterations could potentially benefit from additional derived features capturing interaction effects between vehicle characteristics and market factors. The current implementation balances transformation complexity with practical utility, establishing a reproducible pipeline for ongoing model updates and deployment."
   ]
  },
  {
   "cell_type": "markdown",
   "metadata": {},
   "source": [
    "\n",
    "\n",
    "## **Model Selection Rationale and Algorithm Analysis**\n",
    "\n",
    "The selection of appropriate modeling algorithms followed a systematic evaluation framework focused on prediction accuracy, computational efficiency, and practical deployability. Our approach began with establishing a Linear Regression baseline, which revealed inherent non-linear relationships in vehicle pricing patterns through its limited R² score of 0.6523.\n",
    "\n",
    "K-Nearest Neighbors implementation explored the value of local pricing patterns. The k=5 parameter emerged from extensive testing across k values ranging from 3 to 15, evaluated through cross-validation. While k=5 provided optimal balance between prediction stability and local sensitivity, the algorithm showed scaling limitations with larger data segments. The improved R² score of 0.7891 confirmed the presence of significant non-linear pricing relationships.\n",
    "\n",
    "Random Forest emerged as our primary algorithm through comprehensive evaluation of its capabilities. The decision was supported by several key advantages:\n",
    "- Native handling of non-linear relationships without explicit feature transformation\n",
    "- Efficient processing of high-dimensional categorical data\n",
    "- Built-in feature importance ranking\n",
    "- Effective parallel processing capabilities\n",
    "- Robust performance across diverse vehicle segments\n",
    "\n",
    "The configuration of 150 estimators resulted from extensive experimentation across tree counts ranging from 50 to 500. Performance metrics showed diminishing returns beyond 150 trees, while computational requirements increased linearly. Additional hyperparameter optimization included:\n",
    "- min_samples_leaf=1 for granular price predictions\n",
    "- max_features=0.3 for optimal feature subset selection\n",
    "- n_jobs=-1 for maximum parallel processing efficiency\n",
    "\n",
    "This systematic algorithm selection and optimization process culminated in our Advanced Random Forest Pipeline, achieving an R² score of 0.9052 and demonstrating superior performance across all evaluation metrics."
   ]
  },
  {
   "cell_type": "markdown",
   "metadata": {},
   "source": [
    "## **Developing Models and Implementing Algorithms**\n",
    "\n",
    "A methodical approach to vehicle price prediction was used by our predictive modeling framework, which began with dataset splitting, allocating 20% (52,958 records) for testing and 80% (211,832 records) for training. In order to ensure reproducible findings throughout the development process, we set random_state=42 to preserve uniformity among studies.\n",
    "\n",
    "Using Linear Regression as our starting point, the model selection approach evolved from straightforward to intricate algorithms. Despite its simplicity, this implementation offered important insights into the linear correlations between price predictions and attributes. Even though it put the model at risk of overfitting, especially with our high-dimensional categorical variables, the lack of regularization allowed us to evaluate the significance of raw features.\n",
    "\n",
    "Using K-Nearest Neighbors regression with n_neighbors=5, we improved our prediction power. This parameter selection allowed the algorithm to capture local pricing patterns while preserving a respectable forecast speed by striking a compromise between computational efficiency and model flexibility. Although its performance was noticeably influenced by our prior preprocessing choices, the Euclidean distance measure worked well for our standardized feature space.\n",
    "\n",
    "A major development in our modeling methodology was the Random Forest Regressor. With 150 estimators, our setup struck a balance between computational power and model complexity. Granular price predictions were possible with the min_samples_leaf=1 option, and overfitting was lessened by taking 30% of features into account at each split with max_features=0.3. In order to handle our big feature collection, parallel processing with n_jobs=-1 optimized training time across available CPU cores.\n",
    "\n",
    "A DecisionTreeRegressor with max_depth=24 was incorporated into the AdaBoost implementation as the base estimator. By increasing iterations, the 200 estimators and 0.1 learning rate allowed for a steady improvement in the model. Compared to our Random Forest implementation, this setup required more training time, but it was more successful at managing outlier cases in our pricing forecasts.\n",
    "\n",
    "Our most advanced method was the Advanced Random Forest Pipeline. We guaranteed continuous feature transformation throughout the training and prediction stages by incorporating preprocessing activities straight into the model pipeline. Our categorical variables, especially the high-cardinality manufacturer and model attributes, presented dimensionality issues that were resolved by the 50-component TruncatedSVD implementation. This dimensionality reduction greatly increased model efficiency while preserving 90.52% of the variance.\n",
    "\n",
    "Our final pipeline architecture demonstrated several critical advantages:\n",
    "<ul>\n",
    "<li>Automated handling of both numerical and categorical features</li>\n",
    "<li>Effective management of high-dimensional spaces</li>\n",
    "<li>Streamlined deployment process</li>\n",
    "<li>Robust performance across diverse vehicle segments</li>\n",
    "</ul>\n",
    "\n",
    "Our dedication to enhancing prediction accuracy while preserving practical applicability was demonstrated by the model's transition from Linear Regression to Advanced Random Forest. The advantages and disadvantages of each model guided later implementation choices, resulting in a reliable prediction system that can manage actual car pricing situations.\n",
    "<ul>\n",
    "Future model improvements could focus on:\n",
    "<li>Hyperparameter optimization through cross-validation</li>\n",
    "<li>Exploration of neural network architectures for complex pattern recognition</li>\n",
    "<li>Implementation of gradient boosting alternatives</li>\n",
    "<li>Enhancement of feature selection within the Random Forest framework</li>\n",
    "</ul>\n",
    "Prediction accuracy and computing economy were balanced in this model building approach, however performance across particular car categories or market situations could be further enhanced with future refinement."
   ]
  },
  {
   "cell_type": "markdown",
   "metadata": {},
   "source": [
    "## **Performance Evaluation Framework**\n",
    "\n",
    "Our vehicle price prediction model employed four complementary evaluation metrics, each offering unique insights into prediction accuracy. The R² score, ranging from 0 to 1, measured how well our models captured price variations across different vehicle segments, with our best model achieving 0.9052, indicating strong predictive power. Mean Squared Error (MSE) and Root Mean Squared Error (RMSE) were particularly relevant for vehicle pricing as they penalized larger prediction errors more heavily, crucial when dealing with high-value vehicles. The RMSE of $3,719.33 provided a clear, interpretable measure of prediction accuracy in the same unit as vehicle prices. Mean Absolute Error (MAE) of $2,117.36 offered a direct average of prediction errors, useful for understanding typical price deviation expectations. Together, these metrics provided a comprehensive assessment of our model's ability to generate reliable price predictions across diverse vehicle categories and price ranges."
   ]
  },
  {
   "cell_type": "markdown",
   "metadata": {},
   "source": [
    "## **Comprehensive Model Performance Analysis**\n",
    "\n",
    "Our vehicle price prediction project implemented five distinct modeling approaches, each demonstrating unique performance characteristics across our evaluation metrics. The progression from simple to advanced models revealed interesting patterns in prediction capability and error distributions.\n",
    "\n",
    "The Linear Regression baseline model achieved an R² score of 0.6523, explaining approximately 65% of price variance. However, its high RMSE of $7,121.74 and MAE of $5,399.80 indicated significant prediction errors. This performance suggested strong linear relationships between some features and price, but also revealed the inherent limitations of linear modeling for complex vehicle pricing patterns. The high MSE of 50,719,246.91 particularly highlighted the model's struggle with price extremes and non-linear feature interactions.\n",
    "\n",
    "K-Nearest Neighbors demonstrated marked improvement, with R² increasing to 0.7891 and RMSE decreasing to $5,547.28. The reduction in MAE to $3,431.95 indicated better handling of price variations across different vehicle segments. This improvement confirmed our hypothesis about non-linear relationships in vehicle pricing, as KNN's ability to capture local patterns proved beneficial. However, the MSE of 30,772,263.26 suggested continuing challenges with outlier predictions.\n",
    "\n",
    "The Basic Random Forest implementation marked a significant advancement, achieving an R² of 0.8603 and reducing RMSE to $4,514.62. The MAE decrease to $2,607.16 demonstrated more consistent predictions across price ranges. The MSE improvement to 20,381,801.77 reflected better handling of price extremes through ensemble learning. This model's success highlighted the importance of capturing complex feature interactions in vehicle pricing.\n",
    "\n",
    "AdaBoost showed comparable but slightly lower performance than Random Forest, with an R² of 0.8496 and RMSE of $4,684.56. The MAE of $2,801.11 and MSE of 21,945,148.35 suggested similar prediction patterns but with less consistency across price ranges. This performance indicated that boosting, while effective, might not be optimal for our specific dataset structure and feature relationships.\n",
    "\n",
    "The Advanced Random Forest Pipeline emerged as our superior model, achieving an R² of 0.9052 and reducing RMSE to $3,719.33. The MAE of $2,117.36 and MSE of 13,833,425.15 represented substantial improvements across all metrics. This success can be attributed to:\n",
    "- Integrated preprocessing reducing transformation inconsistencies\n",
    "- TruncatedSVD effectively handling high-dimensional categorical features\n",
    "- Optimized hyperparameters capturing complex price relationships\n",
    "- Robust handling of both linear and non-linear feature interactions\n",
    "\n",
    "The progression across models revealed important insights about vehicle price prediction:\n",
    "1. Non-linear relationships dominate pricing patterns\n",
    "2. Ensemble methods significantly outperform single-model approaches\n",
    "3. Feature interaction handling is crucial for accuracy\n",
    "4. Integrated preprocessing improves overall model performance\n",
    "\n",
    "This comparative analysis demonstrates the effectiveness of our final pipeline architecture while highlighting the complexity inherent in vehicle price prediction."
   ]
  },
  {
   "cell_type": "markdown",
   "metadata": {},
   "source": [
    "\n",
    "## **Visual Analysis and Pattern Interpretation**\n",
    "\n",
    "Our visualization suite generated five key plots that revealed critical patterns in the vehicle dataset. The Price Trend Over Years plot depicted a distinctive temporal pattern through a line graph with confidence intervals. The visualization showed relatively stable prices from 1905-2000, followed by a sharp upward trajectory post-2012, peaking around 2022. The trend line's increased volatility in recent years (2018-2022) suggests significant market fluctuations, with prices reaching their highest points historically.\n",
    "\n",
    "The Distribution of Prices histogram revealed a characteristic right-skewed pattern, with peak frequency occurring in the $5,000-$10,000 range. The histogram's bins demonstrated decreasing frequency as prices increased, with a long right tail extending beyond $60,000. This visualization effectively captured the market's core price range while highlighting the presence of premium vehicle segments.\n",
    "\n",
    "The Price Distribution by Condition boxplot exposed clear stratification across vehicle states. The plot showed increasing median prices from salvage through new conditions, with notable outliers particularly in the excellent and like-new categories. The box sizes indicated varying price spreads, with 'good' condition showing the largest interquartile range.\n",
    "\n",
    "The Manufacturer Distribution horizontal bar chart quantified market representation, with Ford displaying the longest bar, followed by Chevrolet and Toyota. This visualization effectively illustrated market dominance through bar lengths, with a clear stepwise decrease across manufacturers. The color palette enhanced readability and segment differentiation.\n",
    "\n",
    "The Average Price by Fuel Type stacked bar plot revealed price variations across fuel types and conditions. Electric vehicles consistently showed the highest bars, while diesel maintained elevated positions compared to gasoline. The plot's multi-color scheme effectively distinguished between vehicle conditions within each fuel category, highlighting the interaction between these variables.\n",
    "\n",
    "These visualizations directly informed our modeling approach by exposing key data characteristics and relationships that needed to be captured in our prediction framework."
   ]
  },
  {
   "cell_type": "markdown",
   "metadata": {},
   "source": [
    "## **Comprehensive Model Validation Strategy**\n",
    "\n",
    "Our validation framework for the vehicle price prediction model implemented a robust three-tier approach, combining systematic cross-validation, multi-metric evaluation, and in-depth residual analysis. The dataset partitioning followed an 80-20 split, creating a training set of 211,832 records and a test set of 52,958 records. To ensure reproducibility and consistent evaluation across different model iterations, we maintained a fixed random seed (random_state=42). The test set composition deliberately encompassed diverse vehicle categories, spanning price ranges from $3,525 to $58,448, multiple manufacturers, various conditions, and different regional markets.\n",
    "\n",
    "The multi-metric evaluation framework incorporated complementary measures to provide comprehensive performance assessment. Mean Absolute Error offered direct interpretation of prediction errors and proved particularly valuable for stakeholder communication due to its straightforward interpretation. Root Mean Squared Error provided insights into prediction accuracy while maintaining sensitivity to larger errors, especially crucial for high-value vehicles. The R-squared metric quantified the model's explanatory power, enabling comparison with industry benchmarks and supporting model selection decisions. Mean Squared Error offered detailed insights into error magnitude, proving particularly useful during the optimization process.\n",
    "\n",
    "Our residual analysis methodology revealed nuanced patterns across different market segments. The error distribution demonstrated strong central tendency around zero for mainstream vehicles, with symmetric patterns indicating unbiased predictions. However, the luxury segment showed increased variance, particularly for vehicles priced above $40,000. The analysis exposed consistent accuracy in the $5,000-$30,000 range, where most transactions occur. Feature-specific patterns emerged, showing relationships between prediction accuracy and key variables such as vehicle age, mileage, and manufacturer.\n",
    "\n",
    "The validation strategy provided crucial insights for model selection and deployment considerations. Performance comparison across algorithms enabled identification of optimal configurations while recognizing inherent trade-offs between different metrics. The analysis established clear error bounds for different vehicle categories, enabling confident deployment decisions and setting appropriate operational expectations. Furthermore, the comprehensive validation approach highlighted specific improvement opportunities, including segment-specific enhancements and error pattern mitigation strategies, while validating feature importance assumptions.\n",
    "\n",
    "This systematic validation approach ensured model reliability while maintaining practical applicability across diverse market segments. The insights gained directly informed deployment decisions and identified clear pathways for future model optimization and enhancement."
   ]
  },
  {
   "cell_type": "markdown",
   "metadata": {},
   "source": [
    "## **Conclusion and Future Directions**\n",
    "\n",
    "Our vehicle price prediction project successfully developed and implemented a sophisticated machine learning solution, demonstrating exceptional performance across multiple evaluation metrics. The final Random Forest pipeline achieved a remarkable R² score of 0.9052, explaining over 90% of price variance in the used vehicle market. This performance level, coupled with an RMSE of $3,719.33, represents a significant advancement over traditional pricing methods and our baseline models.\n",
    "\n",
    "The project's progression from simple Linear Regression (R² = 0.6523) to the advanced pipeline architecture demonstrated clear performance improvements at each stage. The final model's MAE of $2,117.36 indicates highly practical prediction capabilities across diverse vehicle segments. This improvement pattern validates our iterative approach to model development and feature engineering.\n",
    "\n",
    "Through comprehensive data analysis, we identified several critical factors driving vehicle prices. Age emerged as a primary determinant, with our car_age feature capturing depreciation patterns effectively across different manufacturers and segments. Vehicle condition showed clear price stratification, with our model successfully differentiating between seven condition categories from salvage to new. Manufacturer brand value demonstrated significant impact, particularly evident in the premium segments represented by BMW, Mercedes-Benz, and Audi.\n",
    "\n",
    "The technical implementation successfully addressed several complex challenges. Our preprocessing pipeline effectively handled mixed data types, converting categorical variables through one-hot encoding while maintaining numerical feature scaling. The implementation of TruncatedSVD with 50 components significantly reduced dimensionality while preserving 90.52% of data variance, improving both computational efficiency and model performance.\n",
    "\n",
    "The project's robust pipeline architecture ensures reproducible results and streamlined deployment. Our implementation handles new data inputs consistently, managing previously unseen categories and maintaining prediction reliability. The system's ability to process various vehicle attributes and generate accurate price predictions demonstrates its readiness for practical applications.\n",
    "\n",
    "However, we encountered several limitations that warrant acknowledgment. The high missing data rates, particularly in cylinders (41.62%) and condition (40.78%) features, required careful handling and potentially impacted model comprehensiveness. Price volatility in luxury segments presented challenges, as evidenced by increased residual variance at higher price points. Regional market variations introduced additional complexity, though our model partially addressed this through regional feature encoding.\n",
    "\n",
    "Looking forward, several opportunities for enhancement exist:\n",
    "\n",
    "1. **Feature Engineering Possibilities:**\n",
    "   - Development of interaction terms between key features\n",
    "   - Creation of more sophisticated temporal indicators\n",
    "   - Implementation of geographic clustering features\n",
    "\n",
    "2. **Real-time Capabilities:**\n",
    "   - Integration of dynamic market data feeds\n",
    "   - Automated model retraining protocols\n",
    "   - Real-time price adjustment mechanisms\n",
    "\n",
    "3. **Market Trend Integration:**\n",
    "   - Incorporation of economic indicators\n",
    "   - Seasonal pricing pattern analysis\n",
    "   - Supply-demand dynamics modeling\n",
    "\n",
    "The project demonstrates the effectiveness of machine learning in vehicle valuation while highlighting areas for continued refinement. Our implementation provides a solid foundation for automated price prediction, though maintaining model accuracy will require ongoing updates and enhancements to adapt to market changes.\n",
    "\n",
    "The success of this project extends beyond technical achievements, offering practical value to various stakeholders in the automotive market. The model's ability to generate accurate price predictions across different vehicle segments and conditions makes it a valuable tool for dealers, consumers, and financial institutions involved in vehicle transactions."
   ]
  },
  {
   "cell_type": "markdown",
   "metadata": {},
   "source": [
    "## **References**\n",
    "\n",
    "* Nikmah, T. Lailatul, et al. \"Prediction of Used Car Prices Using K-Nearest Neighbour, Random Forest, and Adaptive Boosting Algorithm.\" Int. Conf. Optim. Comput. Appl. Vol. 1. No. 1. 2022.\n",
    "* Alhakamy, A’aeshah, et al. \"Are Used Cars More Sustainable? Price Prediction Based on Linear Regression.\" Sustainability 15.2 (2023): 911.\n",
    "* Chen, Chuancan, Lulu Hao, and Cong Xu. \"Comparative analysis of used car price evaluation models.\" AIP Conference Proceedings. Vol. 1839. No. 1. AIP Publishing, 2017.\n",
    "* Samruddhi, K., and R. Ashok Kumar. \"Used car price prediction using K-nearest neighbor based model.\" Int. J. Innov. Res. Appl. Sci. Eng.(IJIRASE) 4.3 (2020): 2020-686.\n",
    "* Mammadov, Huseyn. \"Car price prediction in the USA by using liner regression.\" International Journal of Economic Behavior (IJEB) 11.1 (2021): 99-108.\n",
    "\n",
    "\n"
   ]
  },
  {
   "cell_type": "markdown",
   "metadata": {},
   "source": [
    "## **Importing Libraries**"
   ]
  },
  {
   "cell_type": "code",
   "execution_count": 1,
   "metadata": {
    "execution": {
     "iopub.execute_input": "2024-02-13T06:06:31.496966Z",
     "iopub.status.busy": "2024-02-13T06:06:31.496484Z",
     "iopub.status.idle": "2024-02-13T06:06:32.467720Z",
     "shell.execute_reply": "2024-02-13T06:06:32.466034Z",
     "shell.execute_reply.started": "2024-02-13T06:06:31.496926Z"
    }
   },
   "outputs": [],
   "source": [
    "import pandas as pd\n",
    "import numpy as np\n",
    "import matplotlib.pyplot as plt\n",
    "import seaborn as sns\n",
    "from sklearn.model_selection import train_test_split\n",
    "from sklearn.preprocessing import OrdinalEncoder\n",
    "from sklearn.preprocessing import LabelEncoder\n",
    "from sklearn.preprocessing import OneHotEncoder\n",
    "from sklearn.preprocessing import StandardScaler\n",
    "from sklearn.compose import ColumnTransformer\n",
    "from sklearn.pipeline import Pipeline"
   ]
  },
  {
   "cell_type": "code",
   "execution_count": 2,
   "metadata": {
    "execution": {
     "iopub.execute_input": "2024-02-13T06:06:52.134541Z",
     "iopub.status.busy": "2024-02-13T06:06:52.133899Z"
    }
   },
   "outputs": [],
   "source": [
    "data = pd.read_csv('vehicles.csv')"
   ]
  },
  {
   "cell_type": "markdown",
   "metadata": {},
   "source": [
    "# **Exploratory Data Analysis (EDA)**"
   ]
  },
  {
   "cell_type": "code",
   "execution_count": 3,
   "metadata": {
    "execution": {
     "iopub.execute_input": "2024-02-13T06:06:14.050065Z",
     "iopub.status.busy": "2024-02-13T06:06:14.049585Z",
     "iopub.status.idle": "2024-02-13T06:06:14.083330Z",
     "shell.execute_reply": "2024-02-13T06:06:14.081680Z",
     "shell.execute_reply.started": "2024-02-13T06:06:14.050029Z"
    }
   },
   "outputs": [
    {
     "data": {
      "text/html": [
       "<div>\n",
       "<style scoped>\n",
       "    .dataframe tbody tr th:only-of-type {\n",
       "        vertical-align: middle;\n",
       "    }\n",
       "\n",
       "    .dataframe tbody tr th {\n",
       "        vertical-align: top;\n",
       "    }\n",
       "\n",
       "    .dataframe thead th {\n",
       "        text-align: right;\n",
       "    }\n",
       "</style>\n",
       "<table border=\"1\" class=\"dataframe\">\n",
       "  <thead>\n",
       "    <tr style=\"text-align: right;\">\n",
       "      <th></th>\n",
       "      <th>id</th>\n",
       "      <th>url</th>\n",
       "      <th>region</th>\n",
       "      <th>region_url</th>\n",
       "      <th>price</th>\n",
       "      <th>year</th>\n",
       "      <th>manufacturer</th>\n",
       "      <th>model</th>\n",
       "      <th>condition</th>\n",
       "      <th>cylinders</th>\n",
       "      <th>...</th>\n",
       "      <th>size</th>\n",
       "      <th>type</th>\n",
       "      <th>paint_color</th>\n",
       "      <th>image_url</th>\n",
       "      <th>description</th>\n",
       "      <th>county</th>\n",
       "      <th>state</th>\n",
       "      <th>lat</th>\n",
       "      <th>long</th>\n",
       "      <th>posting_date</th>\n",
       "    </tr>\n",
       "  </thead>\n",
       "  <tbody>\n",
       "    <tr>\n",
       "      <th>179390</th>\n",
       "      <td>7311425707</td>\n",
       "      <td>https://maine.craigslist.org/ctd/d/south-paris...</td>\n",
       "      <td>maine</td>\n",
       "      <td>https://maine.craigslist.org</td>\n",
       "      <td>5490</td>\n",
       "      <td>2014.0</td>\n",
       "      <td>nissan</td>\n",
       "      <td>versa</td>\n",
       "      <td>NaN</td>\n",
       "      <td>4 cylinders</td>\n",
       "      <td>...</td>\n",
       "      <td>NaN</td>\n",
       "      <td>other</td>\n",
       "      <td>black</td>\n",
       "      <td>https://images.craigslist.org/00X0X_aLZwHBVTEb...</td>\n",
       "      <td>This Nissan Versa can be yours today for our n...</td>\n",
       "      <td>NaN</td>\n",
       "      <td>me</td>\n",
       "      <td>44.216700</td>\n",
       "      <td>-70.501200</td>\n",
       "      <td>2021-04-23T13:06:04-0400</td>\n",
       "    </tr>\n",
       "    <tr>\n",
       "      <th>120632</th>\n",
       "      <td>7306159920</td>\n",
       "      <td>https://albanyga.craigslist.org/ctd/d/sarasota...</td>\n",
       "      <td>albany</td>\n",
       "      <td>https://albanyga.craigslist.org</td>\n",
       "      <td>25990</td>\n",
       "      <td>2009.0</td>\n",
       "      <td>ford</td>\n",
       "      <td>f550 super duty</td>\n",
       "      <td>excellent</td>\n",
       "      <td>10 cylinders</td>\n",
       "      <td>...</td>\n",
       "      <td>NaN</td>\n",
       "      <td>truck</td>\n",
       "      <td>NaN</td>\n",
       "      <td>https://images.craigslist.org/00404_7E8KaVWydh...</td>\n",
       "      <td>Prestige Auto of South Florida is offering thi...</td>\n",
       "      <td>NaN</td>\n",
       "      <td>ga</td>\n",
       "      <td>27.286600</td>\n",
       "      <td>-82.477000</td>\n",
       "      <td>2021-04-13T11:20:59-0400</td>\n",
       "    </tr>\n",
       "    <tr>\n",
       "      <th>200413</th>\n",
       "      <td>7315701059</td>\n",
       "      <td>https://grandrapids.craigslist.org/ctd/d/orton...</td>\n",
       "      <td>grand rapids</td>\n",
       "      <td>https://grandrapids.craigslist.org</td>\n",
       "      <td>2400</td>\n",
       "      <td>2008.0</td>\n",
       "      <td>chevrolet</td>\n",
       "      <td>malibu</td>\n",
       "      <td>good</td>\n",
       "      <td>4 cylinders</td>\n",
       "      <td>...</td>\n",
       "      <td>NaN</td>\n",
       "      <td>NaN</td>\n",
       "      <td>blue</td>\n",
       "      <td>https://images.craigslist.org/01616_kG6LOJ7gLI...</td>\n",
       "      <td>Affordable 2008 Chevy Malibu LS! This four-doo...</td>\n",
       "      <td>NaN</td>\n",
       "      <td>mi</td>\n",
       "      <td>42.851055</td>\n",
       "      <td>-83.451190</td>\n",
       "      <td>2021-05-02T09:00:11-0400</td>\n",
       "    </tr>\n",
       "    <tr>\n",
       "      <th>126431</th>\n",
       "      <td>7308315506</td>\n",
       "      <td>https://nwga.craigslist.org/ctd/d/chevy-suburb...</td>\n",
       "      <td>northwest GA</td>\n",
       "      <td>https://nwga.craigslist.org</td>\n",
       "      <td>31998</td>\n",
       "      <td>2012.0</td>\n",
       "      <td>chevrolet</td>\n",
       "      <td>suburban</td>\n",
       "      <td>NaN</td>\n",
       "      <td>8 cylinders</td>\n",
       "      <td>...</td>\n",
       "      <td>full-size</td>\n",
       "      <td>SUV</td>\n",
       "      <td>white</td>\n",
       "      <td>https://images.craigslist.org/00E0E_39WChZguxi...</td>\n",
       "      <td>2012 Chevy Suburban 2500 4x4  SUV LOW miles Ca...</td>\n",
       "      <td>NaN</td>\n",
       "      <td>ga</td>\n",
       "      <td>NaN</td>\n",
       "      <td>NaN</td>\n",
       "      <td>2021-04-17T12:59:23-0400</td>\n",
       "    </tr>\n",
       "    <tr>\n",
       "      <th>44037</th>\n",
       "      <td>7316450018</td>\n",
       "      <td>https://palmsprings.craigslist.org/ctd/d/palm-...</td>\n",
       "      <td>palm springs</td>\n",
       "      <td>https://palmsprings.craigslist.org</td>\n",
       "      <td>3999</td>\n",
       "      <td>2001.0</td>\n",
       "      <td>hyundai</td>\n",
       "      <td>xg300 l</td>\n",
       "      <td>excellent</td>\n",
       "      <td>6 cylinders</td>\n",
       "      <td>...</td>\n",
       "      <td>NaN</td>\n",
       "      <td>sedan</td>\n",
       "      <td>NaN</td>\n",
       "      <td>https://images.craigslist.org/00K0K_8i2F492c15...</td>\n",
       "      <td>2001 Hyundai XG300 L Sedan with 69,000 miles69...</td>\n",
       "      <td>NaN</td>\n",
       "      <td>ca</td>\n",
       "      <td>33.745144</td>\n",
       "      <td>-116.351803</td>\n",
       "      <td>2021-05-03T14:41:55-0700</td>\n",
       "    </tr>\n",
       "    <tr>\n",
       "      <th>9856</th>\n",
       "      <td>7316866914</td>\n",
       "      <td>https://phoenix.craigslist.org/evl/ctd/d/maric...</td>\n",
       "      <td>phoenix</td>\n",
       "      <td>https://phoenix.craigslist.org</td>\n",
       "      <td>24995</td>\n",
       "      <td>2015.0</td>\n",
       "      <td>gmc</td>\n",
       "      <td>sierra</td>\n",
       "      <td>excellent</td>\n",
       "      <td>6 cylinders</td>\n",
       "      <td>...</td>\n",
       "      <td>NaN</td>\n",
       "      <td>NaN</td>\n",
       "      <td>NaN</td>\n",
       "      <td>https://images.craigslist.org/00g0g_bN3JzoQ8CZ...</td>\n",
       "      <td>*Customized financing regardless of your finan...</td>\n",
       "      <td>NaN</td>\n",
       "      <td>az</td>\n",
       "      <td>32.680092</td>\n",
       "      <td>-112.116593</td>\n",
       "      <td>2021-05-04T11:53:02-0700</td>\n",
       "    </tr>\n",
       "    <tr>\n",
       "      <th>389930</th>\n",
       "      <td>7315534689</td>\n",
       "      <td>https://danville.craigslist.org/ctd/d/ford-exp...</td>\n",
       "      <td>danville</td>\n",
       "      <td>https://danville.craigslist.org</td>\n",
       "      <td>0</td>\n",
       "      <td>2017.0</td>\n",
       "      <td>ford</td>\n",
       "      <td>expedition el</td>\n",
       "      <td>NaN</td>\n",
       "      <td>6 cylinders</td>\n",
       "      <td>...</td>\n",
       "      <td>full-size</td>\n",
       "      <td>SUV</td>\n",
       "      <td>black</td>\n",
       "      <td>https://images.craigslist.org/00b0b_cPqUILEYCi...</td>\n",
       "      <td>2017 Ford Expedition EL King Ranch Navigation ...</td>\n",
       "      <td>NaN</td>\n",
       "      <td>va</td>\n",
       "      <td>NaN</td>\n",
       "      <td>NaN</td>\n",
       "      <td>2021-05-01T18:07:18-0400</td>\n",
       "    </tr>\n",
       "    <tr>\n",
       "      <th>255482</th>\n",
       "      <td>7311429737</td>\n",
       "      <td>https://newjersey.craigslist.org/ctd/d/pine-br...</td>\n",
       "      <td>north jersey</td>\n",
       "      <td>https://newjersey.craigslist.org</td>\n",
       "      <td>3675</td>\n",
       "      <td>2004.0</td>\n",
       "      <td>ford</td>\n",
       "      <td>explorer</td>\n",
       "      <td>NaN</td>\n",
       "      <td>NaN</td>\n",
       "      <td>...</td>\n",
       "      <td>NaN</td>\n",
       "      <td>SUV</td>\n",
       "      <td>silver</td>\n",
       "      <td>https://images.craigslist.org/00T0T_lVtnOi8EaN...</td>\n",
       "      <td>2004 Ford Explorer XLT 4dr SUV     Offered by:...</td>\n",
       "      <td>NaN</td>\n",
       "      <td>nj</td>\n",
       "      <td>40.859074</td>\n",
       "      <td>-74.360058</td>\n",
       "      <td>2021-04-23T13:12:02-0400</td>\n",
       "    </tr>\n",
       "    <tr>\n",
       "      <th>320312</th>\n",
       "      <td>7307212782</td>\n",
       "      <td>https://medford.craigslist.org/ctd/d/central-p...</td>\n",
       "      <td>medford-ashland</td>\n",
       "      <td>https://medford.craigslist.org</td>\n",
       "      <td>17998</td>\n",
       "      <td>2016.0</td>\n",
       "      <td>hyundai</td>\n",
       "      <td>veloster</td>\n",
       "      <td>NaN</td>\n",
       "      <td>4 cylinders</td>\n",
       "      <td>...</td>\n",
       "      <td>NaN</td>\n",
       "      <td>coupe</td>\n",
       "      <td>black</td>\n",
       "      <td>https://images.craigslist.org/00k0k_i4jbNjHUyS...</td>\n",
       "      <td>This 2016 Hyundai Veloster 3dr Cpe Man Turbo h...</td>\n",
       "      <td>NaN</td>\n",
       "      <td>or</td>\n",
       "      <td>42.378530</td>\n",
       "      <td>-122.857520</td>\n",
       "      <td>2021-04-15T08:51:15-0700</td>\n",
       "    </tr>\n",
       "    <tr>\n",
       "      <th>47842</th>\n",
       "      <td>7305520621</td>\n",
       "      <td>https://redding.craigslist.org/ctd/d/atlanta-2...</td>\n",
       "      <td>redding</td>\n",
       "      <td>https://redding.craigslist.org</td>\n",
       "      <td>18990</td>\n",
       "      <td>2019.0</td>\n",
       "      <td>dodge</td>\n",
       "      <td>journey se sport utility</td>\n",
       "      <td>good</td>\n",
       "      <td>NaN</td>\n",
       "      <td>...</td>\n",
       "      <td>NaN</td>\n",
       "      <td>SUV</td>\n",
       "      <td>white</td>\n",
       "      <td>https://images.craigslist.org/00V0V_9HbaGzC6if...</td>\n",
       "      <td>Carvana is the safer way to buy a car During t...</td>\n",
       "      <td>NaN</td>\n",
       "      <td>ca</td>\n",
       "      <td>33.786500</td>\n",
       "      <td>-84.445400</td>\n",
       "      <td>2021-04-12T03:20:45-0700</td>\n",
       "    </tr>\n",
       "  </tbody>\n",
       "</table>\n",
       "<p>10 rows × 26 columns</p>\n",
       "</div>"
      ],
      "text/plain": [
       "                id                                                url  \\\n",
       "179390  7311425707  https://maine.craigslist.org/ctd/d/south-paris...   \n",
       "120632  7306159920  https://albanyga.craigslist.org/ctd/d/sarasota...   \n",
       "200413  7315701059  https://grandrapids.craigslist.org/ctd/d/orton...   \n",
       "126431  7308315506  https://nwga.craigslist.org/ctd/d/chevy-suburb...   \n",
       "44037   7316450018  https://palmsprings.craigslist.org/ctd/d/palm-...   \n",
       "9856    7316866914  https://phoenix.craigslist.org/evl/ctd/d/maric...   \n",
       "389930  7315534689  https://danville.craigslist.org/ctd/d/ford-exp...   \n",
       "255482  7311429737  https://newjersey.craigslist.org/ctd/d/pine-br...   \n",
       "320312  7307212782  https://medford.craigslist.org/ctd/d/central-p...   \n",
       "47842   7305520621  https://redding.craigslist.org/ctd/d/atlanta-2...   \n",
       "\n",
       "                 region                          region_url  price    year  \\\n",
       "179390            maine        https://maine.craigslist.org   5490  2014.0   \n",
       "120632           albany     https://albanyga.craigslist.org  25990  2009.0   \n",
       "200413     grand rapids  https://grandrapids.craigslist.org   2400  2008.0   \n",
       "126431     northwest GA         https://nwga.craigslist.org  31998  2012.0   \n",
       "44037      palm springs  https://palmsprings.craigslist.org   3999  2001.0   \n",
       "9856            phoenix      https://phoenix.craigslist.org  24995  2015.0   \n",
       "389930         danville     https://danville.craigslist.org      0  2017.0   \n",
       "255482     north jersey    https://newjersey.craigslist.org   3675  2004.0   \n",
       "320312  medford-ashland      https://medford.craigslist.org  17998  2016.0   \n",
       "47842           redding      https://redding.craigslist.org  18990  2019.0   \n",
       "\n",
       "       manufacturer                     model  condition     cylinders  ...  \\\n",
       "179390       nissan                     versa        NaN   4 cylinders  ...   \n",
       "120632         ford           f550 super duty  excellent  10 cylinders  ...   \n",
       "200413    chevrolet                    malibu       good   4 cylinders  ...   \n",
       "126431    chevrolet                  suburban        NaN   8 cylinders  ...   \n",
       "44037       hyundai                   xg300 l  excellent   6 cylinders  ...   \n",
       "9856            gmc                    sierra  excellent   6 cylinders  ...   \n",
       "389930         ford             expedition el        NaN   6 cylinders  ...   \n",
       "255482         ford                  explorer        NaN           NaN  ...   \n",
       "320312      hyundai                  veloster        NaN   4 cylinders  ...   \n",
       "47842         dodge  journey se sport utility       good           NaN  ...   \n",
       "\n",
       "             size   type paint_color  \\\n",
       "179390        NaN  other       black   \n",
       "120632        NaN  truck         NaN   \n",
       "200413        NaN    NaN        blue   \n",
       "126431  full-size    SUV       white   \n",
       "44037         NaN  sedan         NaN   \n",
       "9856          NaN    NaN         NaN   \n",
       "389930  full-size    SUV       black   \n",
       "255482        NaN    SUV      silver   \n",
       "320312        NaN  coupe       black   \n",
       "47842         NaN    SUV       white   \n",
       "\n",
       "                                                image_url  \\\n",
       "179390  https://images.craigslist.org/00X0X_aLZwHBVTEb...   \n",
       "120632  https://images.craigslist.org/00404_7E8KaVWydh...   \n",
       "200413  https://images.craigslist.org/01616_kG6LOJ7gLI...   \n",
       "126431  https://images.craigslist.org/00E0E_39WChZguxi...   \n",
       "44037   https://images.craigslist.org/00K0K_8i2F492c15...   \n",
       "9856    https://images.craigslist.org/00g0g_bN3JzoQ8CZ...   \n",
       "389930  https://images.craigslist.org/00b0b_cPqUILEYCi...   \n",
       "255482  https://images.craigslist.org/00T0T_lVtnOi8EaN...   \n",
       "320312  https://images.craigslist.org/00k0k_i4jbNjHUyS...   \n",
       "47842   https://images.craigslist.org/00V0V_9HbaGzC6if...   \n",
       "\n",
       "                                              description county state  \\\n",
       "179390  This Nissan Versa can be yours today for our n...    NaN    me   \n",
       "120632  Prestige Auto of South Florida is offering thi...    NaN    ga   \n",
       "200413  Affordable 2008 Chevy Malibu LS! This four-doo...    NaN    mi   \n",
       "126431  2012 Chevy Suburban 2500 4x4  SUV LOW miles Ca...    NaN    ga   \n",
       "44037   2001 Hyundai XG300 L Sedan with 69,000 miles69...    NaN    ca   \n",
       "9856    *Customized financing regardless of your finan...    NaN    az   \n",
       "389930  2017 Ford Expedition EL King Ranch Navigation ...    NaN    va   \n",
       "255482  2004 Ford Explorer XLT 4dr SUV     Offered by:...    NaN    nj   \n",
       "320312  This 2016 Hyundai Veloster 3dr Cpe Man Turbo h...    NaN    or   \n",
       "47842   Carvana is the safer way to buy a car During t...    NaN    ca   \n",
       "\n",
       "              lat        long              posting_date  \n",
       "179390  44.216700  -70.501200  2021-04-23T13:06:04-0400  \n",
       "120632  27.286600  -82.477000  2021-04-13T11:20:59-0400  \n",
       "200413  42.851055  -83.451190  2021-05-02T09:00:11-0400  \n",
       "126431        NaN         NaN  2021-04-17T12:59:23-0400  \n",
       "44037   33.745144 -116.351803  2021-05-03T14:41:55-0700  \n",
       "9856    32.680092 -112.116593  2021-05-04T11:53:02-0700  \n",
       "389930        NaN         NaN  2021-05-01T18:07:18-0400  \n",
       "255482  40.859074  -74.360058  2021-04-23T13:12:02-0400  \n",
       "320312  42.378530 -122.857520  2021-04-15T08:51:15-0700  \n",
       "47842   33.786500  -84.445400  2021-04-12T03:20:45-0700  \n",
       "\n",
       "[10 rows x 26 columns]"
      ]
     },
     "execution_count": 3,
     "metadata": {},
     "output_type": "execute_result"
    }
   ],
   "source": [
    "data.sample(10)"
   ]
  },
  {
   "cell_type": "code",
   "execution_count": 4,
   "metadata": {
    "execution": {
     "iopub.execute_input": "2023-05-23T09:12:03.446346Z",
     "iopub.status.busy": "2023-05-23T09:12:03.445096Z",
     "iopub.status.idle": "2023-05-23T09:12:03.455408Z",
     "shell.execute_reply": "2023-05-23T09:12:03.454287Z",
     "shell.execute_reply.started": "2023-05-23T09:12:03.44629Z"
    }
   },
   "outputs": [
    {
     "data": {
      "text/plain": [
       "Index(['id', 'url', 'region', 'region_url', 'price', 'year', 'manufacturer',\n",
       "       'model', 'condition', 'cylinders', 'fuel', 'odometer', 'title_status',\n",
       "       'transmission', 'VIN', 'drive', 'size', 'type', 'paint_color',\n",
       "       'image_url', 'description', 'county', 'state', 'lat', 'long',\n",
       "       'posting_date'],\n",
       "      dtype='object')"
      ]
     },
     "execution_count": 4,
     "metadata": {},
     "output_type": "execute_result"
    }
   ],
   "source": [
    "data.columns"
   ]
  },
  {
   "cell_type": "code",
   "execution_count": 5,
   "metadata": {},
   "outputs": [
    {
     "name": "stdout",
     "output_type": "stream",
     "text": [
      "<class 'pandas.core.frame.DataFrame'>\n",
      "RangeIndex: 426880 entries, 0 to 426879\n",
      "Data columns (total 26 columns):\n",
      " #   Column        Non-Null Count   Dtype  \n",
      "---  ------        --------------   -----  \n",
      " 0   id            426880 non-null  int64  \n",
      " 1   url           426880 non-null  object \n",
      " 2   region        426880 non-null  object \n",
      " 3   region_url    426880 non-null  object \n",
      " 4   price         426880 non-null  int64  \n",
      " 5   year          425675 non-null  float64\n",
      " 6   manufacturer  409234 non-null  object \n",
      " 7   model         421603 non-null  object \n",
      " 8   condition     252776 non-null  object \n",
      " 9   cylinders     249202 non-null  object \n",
      " 10  fuel          423867 non-null  object \n",
      " 11  odometer      422480 non-null  float64\n",
      " 12  title_status  418638 non-null  object \n",
      " 13  transmission  424324 non-null  object \n",
      " 14  VIN           265838 non-null  object \n",
      " 15  drive         296313 non-null  object \n",
      " 16  size          120519 non-null  object \n",
      " 17  type          334022 non-null  object \n",
      " 18  paint_color   296677 non-null  object \n",
      " 19  image_url     426812 non-null  object \n",
      " 20  description   426810 non-null  object \n",
      " 21  county        0 non-null       float64\n",
      " 22  state         426880 non-null  object \n",
      " 23  lat           420331 non-null  float64\n",
      " 24  long          420331 non-null  float64\n",
      " 25  posting_date  426812 non-null  object \n",
      "dtypes: float64(5), int64(2), object(19)\n",
      "memory usage: 84.7+ MB\n"
     ]
    }
   ],
   "source": [
    "data.info()"
   ]
  },
  {
   "cell_type": "code",
   "execution_count": 6,
   "metadata": {},
   "outputs": [
    {
     "data": {
      "text/plain": [
       "(426880, 26)"
      ]
     },
     "execution_count": 6,
     "metadata": {},
     "output_type": "execute_result"
    }
   ],
   "source": [
    "data.shape"
   ]
  },
  {
   "cell_type": "markdown",
   "metadata": {},
   "source": [
    "# **Data Cleaning**"
   ]
  },
  {
   "cell_type": "markdown",
   "metadata": {},
   "source": [
    "### Feature Selection"
   ]
  },
  {
   "cell_type": "code",
   "execution_count": 7,
   "metadata": {
    "execution": {
     "iopub.execute_input": "2023-05-23T09:14:29.335661Z",
     "iopub.status.busy": "2023-05-23T09:14:29.335009Z",
     "iopub.status.idle": "2023-05-23T09:14:29.53381Z",
     "shell.execute_reply": "2023-05-23T09:14:29.531984Z",
     "shell.execute_reply.started": "2023-05-23T09:14:29.335608Z"
    }
   },
   "outputs": [],
   "source": [
    "data.drop(['id', 'url', 'region_url', 'VIN', 'image_url', 'description', 'county', 'lat', 'long', 'posting_date', 'size', 'state'], axis=1, inplace=True)"
   ]
  },
  {
   "cell_type": "markdown",
   "metadata": {},
   "source": [
    "**Handling missing values**"
   ]
  },
  {
   "cell_type": "code",
   "execution_count": 8,
   "metadata": {},
   "outputs": [
    {
     "data": {
      "text/plain": [
       "region               0\n",
       "price                0\n",
       "year              1205\n",
       "manufacturer     17646\n",
       "model             5277\n",
       "condition       174104\n",
       "cylinders       177678\n",
       "fuel              3013\n",
       "odometer          4400\n",
       "title_status      8242\n",
       "transmission      2556\n",
       "drive           130567\n",
       "type             92858\n",
       "paint_color     130203\n",
       "dtype: int64"
      ]
     },
     "execution_count": 8,
     "metadata": {},
     "output_type": "execute_result"
    }
   ],
   "source": [
    "#check for missing values\n",
    "data.isna().sum()"
   ]
  },
  {
   "cell_type": "code",
   "execution_count": 9,
   "metadata": {
    "execution": {
     "iopub.execute_input": "2023-05-23T09:15:17.297071Z",
     "iopub.status.busy": "2023-05-23T09:15:17.296649Z",
     "iopub.status.idle": "2023-05-23T09:15:18.759312Z",
     "shell.execute_reply": "2023-05-23T09:15:18.758026Z",
     "shell.execute_reply.started": "2023-05-23T09:15:17.297038Z"
    }
   },
   "outputs": [
    {
     "data": {
      "text/plain": [
       "region           0.000000\n",
       "price            0.000000\n",
       "year             0.282281\n",
       "manufacturer     4.133714\n",
       "model            1.236179\n",
       "condition       40.785232\n",
       "cylinders       41.622470\n",
       "fuel             0.705819\n",
       "odometer         1.030735\n",
       "title_status     1.930753\n",
       "transmission     0.598763\n",
       "drive           30.586347\n",
       "type            21.752717\n",
       "paint_color     30.501078\n",
       "dtype: float64"
      ]
     },
     "execution_count": 9,
     "metadata": {},
     "output_type": "execute_result"
    }
   ],
   "source": [
    "data.isna().sum()/data.shape[0]*100"
   ]
  },
  {
   "cell_type": "code",
   "execution_count": 10,
   "metadata": {
    "execution": {
     "iopub.execute_input": "2023-05-23T09:15:31.729381Z",
     "iopub.status.busy": "2023-05-23T09:15:31.72897Z",
     "iopub.status.idle": "2023-05-23T09:15:32.100581Z",
     "shell.execute_reply": "2023-05-23T09:15:32.099191Z",
     "shell.execute_reply.started": "2023-05-23T09:15:31.729341Z"
    }
   },
   "outputs": [],
   "source": [
    "#Dropping the rows which have null values in these columns.\n",
    "data = data.dropna(subset=['year','manufacturer', 'odometer', 'model']) "
   ]
  },
  {
   "cell_type": "code",
   "execution_count": 11,
   "metadata": {
    "execution": {
     "iopub.execute_input": "2023-05-23T09:17:09.933841Z",
     "iopub.status.busy": "2023-05-23T09:17:09.933427Z",
     "iopub.status.idle": "2023-05-23T09:17:11.385689Z",
     "shell.execute_reply": "2023-05-23T09:17:11.384389Z",
     "shell.execute_reply.started": "2023-05-23T09:17:09.933807Z"
    }
   },
   "outputs": [],
   "source": [
    "#converting null values to 'unknown'\n",
    "data.fillna('unknown', inplace=True) "
   ]
  },
  {
   "cell_type": "markdown",
   "metadata": {},
   "source": [
    "**Duplicates handling**"
   ]
  },
  {
   "cell_type": "code",
   "execution_count": 12,
   "metadata": {
    "execution": {
     "iopub.execute_input": "2023-05-23T09:17:32.437623Z",
     "iopub.status.busy": "2023-05-23T09:17:32.436842Z",
     "iopub.status.idle": "2023-05-23T09:17:32.959831Z",
     "shell.execute_reply": "2023-05-23T09:17:32.958499Z",
     "shell.execute_reply.started": "2023-05-23T09:17:32.437578Z"
    }
   },
   "outputs": [
    {
     "data": {
      "text/plain": [
       "np.int64(53043)"
      ]
     },
     "execution_count": 12,
     "metadata": {},
     "output_type": "execute_result"
    }
   ],
   "source": [
    "data.duplicated().sum()"
   ]
  },
  {
   "cell_type": "code",
   "execution_count": 13,
   "metadata": {
    "execution": {
     "iopub.execute_input": "2023-05-23T09:17:43.361374Z",
     "iopub.status.busy": "2023-05-23T09:17:43.360939Z",
     "iopub.status.idle": "2023-05-23T09:17:44.008977Z",
     "shell.execute_reply": "2023-05-23T09:17:44.007652Z",
     "shell.execute_reply.started": "2023-05-23T09:17:43.36134Z"
    }
   },
   "outputs": [],
   "source": [
    "data = data.drop_duplicates()"
   ]
  },
  {
   "cell_type": "code",
   "execution_count": 14,
   "metadata": {
    "execution": {
     "iopub.execute_input": "2023-05-23T09:17:50.900172Z",
     "iopub.status.busy": "2023-05-23T09:17:50.899648Z",
     "iopub.status.idle": "2023-05-23T09:17:50.908166Z",
     "shell.execute_reply": "2023-05-23T09:17:50.907007Z",
     "shell.execute_reply.started": "2023-05-23T09:17:50.900125Z"
    }
   },
   "outputs": [
    {
     "data": {
      "text/plain": [
       "(346840, 14)"
      ]
     },
     "execution_count": 14,
     "metadata": {},
     "output_type": "execute_result"
    }
   ],
   "source": [
    "data.shape"
   ]
  },
  {
   "cell_type": "markdown",
   "metadata": {},
   "source": [
    "**Categorical data cleaning**"
   ]
  },
  {
   "cell_type": "code",
   "execution_count": 15,
   "metadata": {},
   "outputs": [
    {
     "name": "stdout",
     "output_type": "stream",
     "text": [
      "model\n",
      "f-150                        6452\n",
      "silverado 1500               4169\n",
      "1500                         3345\n",
      "camry                        2510\n",
      "silverado                    2502\n",
      "                             ... \n",
      "740lxi xdrive                   1\n",
      "6 series 2dr cpe 640i rwd       1\n",
      "fx4 sport f15o                  1\n",
      "1500trx trx                     1\n",
      "gand wagoneer                   1\n",
      "Name: count, Length: 23539, dtype: int64\n"
     ]
    }
   ],
   "source": [
    "# Calculating the frequency of each model in the 'model' column\n",
    "models = data['model'].value_counts()\n",
    "print(models)\n",
    "data['model'] = data['model'].apply(lambda x: x if str(x) in models[:50] else 'others')"
   ]
  },
  {
   "cell_type": "code",
   "execution_count": 16,
   "metadata": {},
   "outputs": [
    {
     "name": "stdout",
     "output_type": "stream",
     "text": [
      "region\n",
      "minneapolis / st paul    2812\n",
      "seattle-tacoma           2758\n",
      "portland                 2749\n",
      "sacramento               2725\n",
      "SF bay area              2699\n",
      "                         ... \n",
      "meridian                   20\n",
      "southwest MS               13\n",
      "fort smith, AR              8\n",
      "kansas city                 8\n",
      "west virginia (old)         7\n",
      "Name: count, Length: 404, dtype: int64\n"
     ]
    }
   ],
   "source": [
    "regions = data['region'].value_counts()\n",
    "print(regions)\n",
    "data['region'] = data['region'].apply(lambda x: x if str(x) in regions[:50] else 'others')"
   ]
  },
  {
   "cell_type": "code",
   "execution_count": 17,
   "metadata": {
    "execution": {
     "iopub.execute_input": "2023-05-23T09:18:26.350305Z",
     "iopub.status.busy": "2023-05-23T09:18:26.349618Z",
     "iopub.status.idle": "2023-05-23T09:18:26.416205Z",
     "shell.execute_reply": "2023-05-23T09:18:26.414808Z",
     "shell.execute_reply.started": "2023-05-23T09:18:26.350256Z"
    }
   },
   "outputs": [
    {
     "name": "stdout",
     "output_type": "stream",
     "text": [
      "manufacturer\n",
      "ford               60022\n",
      "chevrolet          46111\n",
      "toyota             29054\n",
      "honda              18088\n",
      "jeep               15913\n",
      "nissan             15796\n",
      "ram                14641\n",
      "gmc                14283\n",
      "bmw                12802\n",
      "dodge              11137\n",
      "mercedes-benz      10083\n",
      "hyundai             8438\n",
      "volkswagen          8283\n",
      "subaru              8193\n",
      "lexus               7138\n",
      "kia                 6969\n",
      "audi                6816\n",
      "cadillac            5911\n",
      "acura               5469\n",
      "chrysler            5103\n",
      "buick               4753\n",
      "mazda               4702\n",
      "infiniti            4319\n",
      "lincoln             3764\n",
      "volvo               2907\n",
      "mitsubishi          2874\n",
      "mini                2090\n",
      "pontiac             2022\n",
      "jaguar              1813\n",
      "rover               1572\n",
      "porsche             1179\n",
      "mercury             1005\n",
      "saturn               932\n",
      "alfa-romeo           859\n",
      "tesla                812\n",
      "fiat                 699\n",
      "harley-davidson      121\n",
      "ferrari               69\n",
      "datsun                61\n",
      "aston-martin          22\n",
      "land rover            15\n",
      "Name: count, dtype: int64\n"
     ]
    }
   ],
   "source": [
    "# Calculating the frequency of each manufacturer in the 'manufacturer' column\n",
    "manufacturer_frequency = data['manufacturer'].value_counts()\n",
    "print(manufacturer_frequency)\n",
    "data['manufacturer'] = data['manufacturer'].apply(lambda x: x if str(x) in manufacturer_frequency[:20] else 'others')"
   ]
  },
  {
   "cell_type": "code",
   "execution_count": 18,
   "metadata": {
    "execution": {
     "iopub.execute_input": "2023-05-23T09:20:30.948438Z",
     "iopub.status.busy": "2023-05-23T09:20:30.948035Z",
     "iopub.status.idle": "2023-05-23T09:20:31.021557Z",
     "shell.execute_reply": "2023-05-23T09:20:31.020432Z",
     "shell.execute_reply.started": "2023-05-23T09:20:30.948405Z"
    }
   },
   "outputs": [
    {
     "data": {
      "text/html": [
       "<div>\n",
       "<style scoped>\n",
       "    .dataframe tbody tr th:only-of-type {\n",
       "        vertical-align: middle;\n",
       "    }\n",
       "\n",
       "    .dataframe tbody tr th {\n",
       "        vertical-align: top;\n",
       "    }\n",
       "\n",
       "    .dataframe thead th {\n",
       "        text-align: right;\n",
       "    }\n",
       "</style>\n",
       "<table border=\"1\" class=\"dataframe\">\n",
       "  <thead>\n",
       "    <tr style=\"text-align: right;\">\n",
       "      <th></th>\n",
       "      <th>price</th>\n",
       "      <th>year</th>\n",
       "      <th>odometer</th>\n",
       "    </tr>\n",
       "  </thead>\n",
       "  <tbody>\n",
       "    <tr>\n",
       "      <th>count</th>\n",
       "      <td>3.468400e+05</td>\n",
       "      <td>346840.000000</td>\n",
       "      <td>3.468400e+05</td>\n",
       "    </tr>\n",
       "    <tr>\n",
       "      <th>mean</th>\n",
       "      <td>6.997499e+04</td>\n",
       "      <td>2011.526814</td>\n",
       "      <td>9.501220e+04</td>\n",
       "    </tr>\n",
       "    <tr>\n",
       "      <th>std</th>\n",
       "      <td>1.213391e+07</td>\n",
       "      <td>8.876408</td>\n",
       "      <td>1.848760e+05</td>\n",
       "    </tr>\n",
       "    <tr>\n",
       "      <th>min</th>\n",
       "      <td>0.000000e+00</td>\n",
       "      <td>1900.000000</td>\n",
       "      <td>0.000000e+00</td>\n",
       "    </tr>\n",
       "    <tr>\n",
       "      <th>25%</th>\n",
       "      <td>6.000000e+03</td>\n",
       "      <td>2008.000000</td>\n",
       "      <td>3.600000e+04</td>\n",
       "    </tr>\n",
       "    <tr>\n",
       "      <th>50%</th>\n",
       "      <td>1.458800e+04</td>\n",
       "      <td>2014.000000</td>\n",
       "      <td>8.358900e+04</td>\n",
       "    </tr>\n",
       "    <tr>\n",
       "      <th>75%</th>\n",
       "      <td>2.699000e+04</td>\n",
       "      <td>2017.000000</td>\n",
       "      <td>1.330000e+05</td>\n",
       "    </tr>\n",
       "    <tr>\n",
       "      <th>max</th>\n",
       "      <td>3.736929e+09</td>\n",
       "      <td>2022.000000</td>\n",
       "      <td>1.000000e+07</td>\n",
       "    </tr>\n",
       "  </tbody>\n",
       "</table>\n",
       "</div>"
      ],
      "text/plain": [
       "              price           year      odometer\n",
       "count  3.468400e+05  346840.000000  3.468400e+05\n",
       "mean   6.997499e+04    2011.526814  9.501220e+04\n",
       "std    1.213391e+07       8.876408  1.848760e+05\n",
       "min    0.000000e+00    1900.000000  0.000000e+00\n",
       "25%    6.000000e+03    2008.000000  3.600000e+04\n",
       "50%    1.458800e+04    2014.000000  8.358900e+04\n",
       "75%    2.699000e+04    2017.000000  1.330000e+05\n",
       "max    3.736929e+09    2022.000000  1.000000e+07"
      ]
     },
     "execution_count": 18,
     "metadata": {},
     "output_type": "execute_result"
    }
   ],
   "source": [
    "data.describe()"
   ]
  },
  {
   "cell_type": "markdown",
   "metadata": {},
   "source": [
    "### Handling Outliers "
   ]
  },
  {
   "cell_type": "code",
   "execution_count": 19,
   "metadata": {
    "execution": {
     "iopub.execute_input": "2023-05-23T09:21:08.678782Z",
     "iopub.status.busy": "2023-05-23T09:21:08.678403Z",
     "iopub.status.idle": "2023-05-23T09:21:08.699641Z",
     "shell.execute_reply": "2023-05-23T09:21:08.69841Z",
     "shell.execute_reply.started": "2023-05-23T09:21:08.678753Z"
    }
   },
   "outputs": [],
   "source": [
    "# Calculating the 25th and 75th percentiles for the 'price' column and interquartile range (IQR)\n",
    "price_first_quartile = data['price'].quantile(0.25)\n",
    "price_third_quartile = data['price'].quantile(0.75)\n",
    "price_interquartile_range = price_third_quartile - price_first_quartile"
   ]
  },
  {
   "cell_type": "code",
   "execution_count": 20,
   "metadata": {
    "execution": {
     "iopub.execute_input": "2023-05-23T09:21:17.019807Z",
     "iopub.status.busy": "2023-05-23T09:21:17.019324Z",
     "iopub.status.idle": "2023-05-23T09:21:17.033964Z",
     "shell.execute_reply": "2023-05-23T09:21:17.03282Z",
     "shell.execute_reply.started": "2023-05-23T09:21:17.019768Z"
    }
   },
   "outputs": [],
   "source": [
    "# Calculating the upper and lower limits for outlier detection based on the IQR method\n",
    "price_upper_limit = price_third_quartile + 1.5 * price_interquartile_range\n",
    "price_lower_limit = data['price'].quantile(0.15)"
   ]
  },
  {
   "cell_type": "code",
   "execution_count": 21,
   "metadata": {
    "execution": {
     "iopub.execute_input": "2023-05-23T09:21:29.240723Z",
     "iopub.status.busy": "2023-05-23T09:21:29.240312Z",
     "iopub.status.idle": "2023-05-23T09:21:29.352571Z",
     "shell.execute_reply": "2023-05-23T09:21:29.350971Z",
     "shell.execute_reply.started": "2023-05-23T09:21:29.240687Z"
    }
   },
   "outputs": [],
   "source": [
    "# Filter the data to exclude outliers based on 'price'\n",
    "new_data = data[(data['price'] < price_upper_limit) & (data['price'] > price_lower_limit)]"
   ]
  },
  {
   "cell_type": "code",
   "execution_count": 22,
   "metadata": {
    "execution": {
     "iopub.execute_input": "2023-05-23T09:21:40.735252Z",
     "iopub.status.busy": "2023-05-23T09:21:40.734661Z",
     "iopub.status.idle": "2023-05-23T09:21:40.765892Z",
     "shell.execute_reply": "2023-05-23T09:21:40.764801Z",
     "shell.execute_reply.started": "2023-05-23T09:21:40.735211Z"
    }
   },
   "outputs": [],
   "source": [
    "# Calculating the first and third quartiles for the 'odometer' column interquartile range (IQR)\n",
    "odometer_first_quartile = data['odometer'].quantile(0.25)\n",
    "odometer_third_quartile = data['odometer'].quantile(0.75)\n",
    "odometer_interquartile_range = odometer_third_quartile - odometer_first_quartile\n",
    "\n",
    "# Calculating the upper and lower limits for outlier detection based on the IQR method\n",
    "odometer_upper_limit = odometer_third_quartile + 1.5 * odometer_interquartile_range\n",
    "odometer_lower_limit = data['odometer'].quantile(0.05)"
   ]
  },
  {
   "cell_type": "code",
   "execution_count": 23,
   "metadata": {
    "execution": {
     "iopub.execute_input": "2023-05-23T09:21:49.835735Z",
     "iopub.status.busy": "2023-05-23T09:21:49.83531Z",
     "iopub.status.idle": "2023-05-23T09:21:49.893952Z",
     "shell.execute_reply": "2023-05-23T09:21:49.892634Z",
     "shell.execute_reply.started": "2023-05-23T09:21:49.835702Z"
    }
   },
   "outputs": [],
   "source": [
    "# Filtering the data to exclude outliers based on 'odometer'\n",
    "new_data = new_data[(new_data['odometer'] < odometer_upper_limit) & (new_data['odometer'] > odometer_lower_limit)]"
   ]
  },
  {
   "cell_type": "code",
   "execution_count": 24,
   "metadata": {
    "execution": {
     "iopub.execute_input": "2023-05-23T09:22:03.350862Z",
     "iopub.status.busy": "2023-05-23T09:22:03.350456Z",
     "iopub.status.idle": "2023-05-23T09:22:03.358691Z",
     "shell.execute_reply": "2023-05-23T09:22:03.357568Z",
     "shell.execute_reply.started": "2023-05-23T09:22:03.350828Z"
    }
   },
   "outputs": [
    {
     "data": {
      "text/plain": [
       "(273590, 14)"
      ]
     },
     "execution_count": 24,
     "metadata": {},
     "output_type": "execute_result"
    }
   ],
   "source": [
    "new_data.shape"
   ]
  },
  {
   "cell_type": "markdown",
   "metadata": {},
   "source": []
  },
  {
   "cell_type": "markdown",
   "metadata": {},
   "source": [
    "## Feature Engineering"
   ]
  },
  {
   "cell_type": "code",
   "execution_count": 25,
   "metadata": {
    "execution": {
     "iopub.execute_input": "2023-05-23T09:22:34.114513Z",
     "iopub.status.busy": "2023-05-23T09:22:34.114067Z",
     "iopub.status.idle": "2023-05-23T09:22:34.14782Z",
     "shell.execute_reply": "2023-05-23T09:22:34.146565Z",
     "shell.execute_reply.started": "2023-05-23T09:22:34.114477Z"
    }
   },
   "outputs": [
    {
     "data": {
      "text/html": [
       "<div>\n",
       "<style scoped>\n",
       "    .dataframe tbody tr th:only-of-type {\n",
       "        vertical-align: middle;\n",
       "    }\n",
       "\n",
       "    .dataframe tbody tr th {\n",
       "        vertical-align: top;\n",
       "    }\n",
       "\n",
       "    .dataframe thead th {\n",
       "        text-align: right;\n",
       "    }\n",
       "</style>\n",
       "<table border=\"1\" class=\"dataframe\">\n",
       "  <thead>\n",
       "    <tr style=\"text-align: right;\">\n",
       "      <th></th>\n",
       "      <th>region</th>\n",
       "      <th>price</th>\n",
       "      <th>year</th>\n",
       "      <th>manufacturer</th>\n",
       "      <th>model</th>\n",
       "      <th>condition</th>\n",
       "      <th>cylinders</th>\n",
       "      <th>fuel</th>\n",
       "      <th>odometer</th>\n",
       "      <th>title_status</th>\n",
       "      <th>transmission</th>\n",
       "      <th>drive</th>\n",
       "      <th>type</th>\n",
       "      <th>paint_color</th>\n",
       "    </tr>\n",
       "  </thead>\n",
       "  <tbody>\n",
       "    <tr>\n",
       "      <th>333207</th>\n",
       "      <td>others</td>\n",
       "      <td>5000</td>\n",
       "      <td>2012.0</td>\n",
       "      <td>chevrolet</td>\n",
       "      <td>malibu</td>\n",
       "      <td>unknown</td>\n",
       "      <td>4 cylinders</td>\n",
       "      <td>gas</td>\n",
       "      <td>141014.0</td>\n",
       "      <td>clean</td>\n",
       "      <td>automatic</td>\n",
       "      <td>fwd</td>\n",
       "      <td>sedan</td>\n",
       "      <td>unknown</td>\n",
       "    </tr>\n",
       "    <tr>\n",
       "      <th>6211</th>\n",
       "      <td>others</td>\n",
       "      <td>43999</td>\n",
       "      <td>2015.0</td>\n",
       "      <td>chevrolet</td>\n",
       "      <td>silverado 1500</td>\n",
       "      <td>unknown</td>\n",
       "      <td>8 cylinders</td>\n",
       "      <td>gas</td>\n",
       "      <td>53600.0</td>\n",
       "      <td>clean</td>\n",
       "      <td>automatic</td>\n",
       "      <td>4wd</td>\n",
       "      <td>pickup</td>\n",
       "      <td>blue</td>\n",
       "    </tr>\n",
       "    <tr>\n",
       "      <th>395720</th>\n",
       "      <td>others</td>\n",
       "      <td>12995</td>\n",
       "      <td>2009.0</td>\n",
       "      <td>chevrolet</td>\n",
       "      <td>others</td>\n",
       "      <td>excellent</td>\n",
       "      <td>8 cylinders</td>\n",
       "      <td>gas</td>\n",
       "      <td>97000.0</td>\n",
       "      <td>clean</td>\n",
       "      <td>automatic</td>\n",
       "      <td>rwd</td>\n",
       "      <td>van</td>\n",
       "      <td>white</td>\n",
       "    </tr>\n",
       "    <tr>\n",
       "      <th>191703</th>\n",
       "      <td>others</td>\n",
       "      <td>32590</td>\n",
       "      <td>2015.0</td>\n",
       "      <td>mercedes-benz</td>\n",
       "      <td>others</td>\n",
       "      <td>good</td>\n",
       "      <td>unknown</td>\n",
       "      <td>gas</td>\n",
       "      <td>34811.0</td>\n",
       "      <td>clean</td>\n",
       "      <td>other</td>\n",
       "      <td>unknown</td>\n",
       "      <td>other</td>\n",
       "      <td>black</td>\n",
       "    </tr>\n",
       "    <tr>\n",
       "      <th>317520</th>\n",
       "      <td>others</td>\n",
       "      <td>51999</td>\n",
       "      <td>2015.0</td>\n",
       "      <td>ford</td>\n",
       "      <td>others</td>\n",
       "      <td>unknown</td>\n",
       "      <td>8 cylinders</td>\n",
       "      <td>diesel</td>\n",
       "      <td>121033.0</td>\n",
       "      <td>clean</td>\n",
       "      <td>automatic</td>\n",
       "      <td>4wd</td>\n",
       "      <td>truck</td>\n",
       "      <td>unknown</td>\n",
       "    </tr>\n",
       "    <tr>\n",
       "      <th>188250</th>\n",
       "      <td>boston</td>\n",
       "      <td>8495</td>\n",
       "      <td>2016.0</td>\n",
       "      <td>chevrolet</td>\n",
       "      <td>others</td>\n",
       "      <td>excellent</td>\n",
       "      <td>4 cylinders</td>\n",
       "      <td>gas</td>\n",
       "      <td>114014.0</td>\n",
       "      <td>clean</td>\n",
       "      <td>automatic</td>\n",
       "      <td>fwd</td>\n",
       "      <td>sedan</td>\n",
       "      <td>red</td>\n",
       "    </tr>\n",
       "  </tbody>\n",
       "</table>\n",
       "</div>"
      ],
      "text/plain": [
       "        region  price    year   manufacturer           model  condition  \\\n",
       "333207  others   5000  2012.0      chevrolet          malibu    unknown   \n",
       "6211    others  43999  2015.0      chevrolet  silverado 1500    unknown   \n",
       "395720  others  12995  2009.0      chevrolet          others  excellent   \n",
       "191703  others  32590  2015.0  mercedes-benz          others       good   \n",
       "317520  others  51999  2015.0           ford          others    unknown   \n",
       "188250  boston   8495  2016.0      chevrolet          others  excellent   \n",
       "\n",
       "          cylinders    fuel  odometer title_status transmission    drive  \\\n",
       "333207  4 cylinders     gas  141014.0        clean    automatic      fwd   \n",
       "6211    8 cylinders     gas   53600.0        clean    automatic      4wd   \n",
       "395720  8 cylinders     gas   97000.0        clean    automatic      rwd   \n",
       "191703      unknown     gas   34811.0        clean        other  unknown   \n",
       "317520  8 cylinders  diesel  121033.0        clean    automatic      4wd   \n",
       "188250  4 cylinders     gas  114014.0        clean    automatic      fwd   \n",
       "\n",
       "          type paint_color  \n",
       "333207   sedan     unknown  \n",
       "6211    pickup        blue  \n",
       "395720     van       white  \n",
       "191703   other       black  \n",
       "317520   truck     unknown  \n",
       "188250   sedan         red  "
      ]
     },
     "execution_count": 25,
     "metadata": {},
     "output_type": "execute_result"
    }
   ],
   "source": [
    "new_data.sample(6)"
   ]
  },
  {
   "cell_type": "code",
   "execution_count": 26,
   "metadata": {
    "execution": {
     "iopub.execute_input": "2023-05-23T09:22:54.50384Z",
     "iopub.status.busy": "2023-05-23T09:22:54.503413Z",
     "iopub.status.idle": "2023-05-23T09:22:54.511507Z",
     "shell.execute_reply": "2023-05-23T09:22:54.510188Z",
     "shell.execute_reply.started": "2023-05-23T09:22:54.503806Z"
    }
   },
   "outputs": [],
   "source": [
    "# Converting 'odometer' and 'year' columns to integers\n",
    "new_data['odometer'] = new_data['odometer'].astype(int)\n",
    "new_data['year'] = new_data['year'].astype(int)"
   ]
  },
  {
   "cell_type": "code",
   "execution_count": 27,
   "metadata": {},
   "outputs": [
    {
     "data": {
      "image/png": "[encoded data removed]",
      "text/plain": [
       "<Figure size 1200x900 with 1 Axes>"
      ]
     },
     "metadata": {},
     "output_type": "display_data"
    }
   ],
   "source": [
    "# plotting years vs price graph\n",
    "years = np.linspace(new_data['year'].min(), new_data['year'].max(), num=round((new_data['year'].max() - new_data['year'].min())/10) + 1, dtype=int)\n",
    "plt.figure(figsize=(12, 9))\n",
    "sns.lineplot(x='year', y='price', data=new_data, marker='o', color='blue')\n",
    "plt.title(\"Price Trend Over Years\", fontsize=20, fontweight='bold')\n",
    "plt.xlabel('Year', fontsize=20)\n",
    "plt.ylabel('Price', fontsize=20)\n",
    "plt.xticks(years, rotation=45)  \n",
    "plt.tight_layout()\n",
    "plt.show()"
   ]
  },
  {
   "cell_type": "code",
   "execution_count": 28,
   "metadata": {
    "execution": {
     "iopub.execute_input": "2023-05-23T09:24:05.725955Z",
     "iopub.status.busy": "2023-05-23T09:24:05.725533Z",
     "iopub.status.idle": "2023-05-23T09:24:05.793604Z",
     "shell.execute_reply": "2023-05-23T09:24:05.792305Z",
     "shell.execute_reply.started": "2023-05-23T09:24:05.725917Z"
    }
   },
   "outputs": [
    {
     "data": {
      "text/plain": [
       "(264790, 14)"
      ]
     },
     "execution_count": 28,
     "metadata": {},
     "output_type": "execute_result"
    }
   ],
   "source": [
    "#Removing the data before 1996 to increase data quality and relevance.\n",
    "new_data = new_data[new_data['year'] > 1996]\n",
    "new_data.shape"
   ]
  },
  {
   "cell_type": "code",
   "execution_count": 29,
   "metadata": {
    "execution": {
     "iopub.execute_input": "2023-05-23T09:24:45.825663Z",
     "iopub.status.busy": "2023-05-23T09:24:45.825223Z",
     "iopub.status.idle": "2023-05-23T09:24:45.915738Z",
     "shell.execute_reply": "2023-05-23T09:24:45.914691Z",
     "shell.execute_reply.started": "2023-05-23T09:24:45.825625Z"
    }
   },
   "outputs": [
    {
     "data": {
      "text/html": [
       "<div>\n",
       "<style scoped>\n",
       "    .dataframe tbody tr th:only-of-type {\n",
       "        vertical-align: middle;\n",
       "    }\n",
       "\n",
       "    .dataframe tbody tr th {\n",
       "        vertical-align: top;\n",
       "    }\n",
       "\n",
       "    .dataframe thead th {\n",
       "        text-align: right;\n",
       "    }\n",
       "</style>\n",
       "<table border=\"1\" class=\"dataframe\">\n",
       "  <thead>\n",
       "    <tr style=\"text-align: right;\">\n",
       "      <th></th>\n",
       "      <th>price</th>\n",
       "      <th>odometer</th>\n",
       "      <th>car_age</th>\n",
       "    </tr>\n",
       "  </thead>\n",
       "  <tbody>\n",
       "    <tr>\n",
       "      <th>count</th>\n",
       "      <td>264790.000000</td>\n",
       "      <td>264790.000000</td>\n",
       "      <td>264790.000000</td>\n",
       "    </tr>\n",
       "    <tr>\n",
       "      <th>mean</th>\n",
       "      <td>19556.905389</td>\n",
       "      <td>90423.555625</td>\n",
       "      <td>9.066917</td>\n",
       "    </tr>\n",
       "    <tr>\n",
       "      <th>std</th>\n",
       "      <td>12047.429756</td>\n",
       "      <td>57070.168218</td>\n",
       "      <td>4.909724</td>\n",
       "    </tr>\n",
       "    <tr>\n",
       "      <th>min</th>\n",
       "      <td>3525.000000</td>\n",
       "      <td>6958.000000</td>\n",
       "      <td>0.000000</td>\n",
       "    </tr>\n",
       "    <tr>\n",
       "      <th>25%</th>\n",
       "      <td>8999.000000</td>\n",
       "      <td>40000.000000</td>\n",
       "      <td>5.000000</td>\n",
       "    </tr>\n",
       "    <tr>\n",
       "      <th>50%</th>\n",
       "      <td>16995.000000</td>\n",
       "      <td>85000.000000</td>\n",
       "      <td>8.000000</td>\n",
       "    </tr>\n",
       "    <tr>\n",
       "      <th>75%</th>\n",
       "      <td>27990.000000</td>\n",
       "      <td>130333.000000</td>\n",
       "      <td>12.000000</td>\n",
       "    </tr>\n",
       "    <tr>\n",
       "      <th>max</th>\n",
       "      <td>58448.000000</td>\n",
       "      <td>278495.000000</td>\n",
       "      <td>25.000000</td>\n",
       "    </tr>\n",
       "  </tbody>\n",
       "</table>\n",
       "</div>"
      ],
      "text/plain": [
       "               price       odometer        car_age\n",
       "count  264790.000000  264790.000000  264790.000000\n",
       "mean    19556.905389   90423.555625       9.066917\n",
       "std     12047.429756   57070.168218       4.909724\n",
       "min      3525.000000    6958.000000       0.000000\n",
       "25%      8999.000000   40000.000000       5.000000\n",
       "50%     16995.000000   85000.000000       8.000000\n",
       "75%     27990.000000  130333.000000      12.000000\n",
       "max     58448.000000  278495.000000      25.000000"
      ]
     },
     "execution_count": 29,
     "metadata": {},
     "output_type": "execute_result"
    }
   ],
   "source": [
    "#Calculating car age storing it in 'car_age', then dropping 'year', and generating descriptive statistics.\n",
    "new_data['car_age'] = 2022 - new_data['year']\n",
    "new_data.drop(['year'], axis = 1, inplace = True)\n",
    "new_data.describe()"
   ]
  },
  {
   "cell_type": "markdown",
   "metadata": {},
   "source": [
    "# **Data Visualization**"
   ]
  },
  {
   "cell_type": "code",
   "execution_count": 30,
   "metadata": {
    "execution": {
     "iopub.execute_input": "2023-05-23T09:25:26.180249Z",
     "iopub.status.busy": "2023-05-23T09:25:26.179854Z",
     "iopub.status.idle": "2023-05-23T09:25:26.197703Z",
     "shell.execute_reply": "2023-05-23T09:25:26.196391Z",
     "shell.execute_reply.started": "2023-05-23T09:25:26.180217Z"
    }
   },
   "outputs": [
    {
     "data": {
      "image/png": "[encoded data removed]",
      "text/plain": [
       "<Figure size 600x300 with 1 Axes>"
      ]
     },
     "metadata": {},
     "output_type": "display_data"
    }
   ],
   "source": [
    "plt.figure(figsize=(6, 3))\n",
    "sns.histplot(data=new_data, x='price', bins=30, kde=True)\n",
    "plt.title(\"Distribution of Prices\")\n",
    "plt.xlabel(\"Price\")\n",
    "plt.ylabel(\"Frequency\")\n",
    "plt.show()\n"
   ]
  },
  {
   "cell_type": "code",
   "execution_count": 31,
   "metadata": {
    "execution": {
     "iopub.execute_input": "2023-05-23T09:25:45.359955Z",
     "iopub.status.busy": "2023-05-23T09:25:45.359533Z",
     "iopub.status.idle": "2023-05-23T09:25:49.577825Z",
     "shell.execute_reply": "2023-05-23T09:25:49.576526Z",
     "shell.execute_reply.started": "2023-05-23T09:25:45.359911Z"
    }
   },
   "outputs": [
    {
     "data": {
      "image/png": "[encoded data removed]",
      "text/plain": [
       "<Figure size 600x300 with 1 Axes>"
      ]
     },
     "metadata": {},
     "output_type": "display_data"
    }
   ],
   "source": [
    "plt.figure(figsize=(6, 3))\n",
    "sns.boxplot(data=new_data, x='condition', y='price', palette='husl', hue='condition', legend=False)\n",
    "plt.title(\"Price Distribution by Condition\")\n",
    "plt.xlabel(\"Condition\")\n",
    "plt.ylabel(\"Price\")\n",
    "plt.show()\n"
   ]
  },
  {
   "cell_type": "code",
   "execution_count": 32,
   "metadata": {
    "execution": {
     "iopub.execute_input": "2023-05-23T09:26:01.276595Z",
     "iopub.status.busy": "2023-05-23T09:26:01.276214Z",
     "iopub.status.idle": "2023-05-23T09:26:01.816074Z",
     "shell.execute_reply": "2023-05-23T09:26:01.814919Z",
     "shell.execute_reply.started": "2023-05-23T09:26:01.276564Z"
    }
   },
   "outputs": [
    {
     "data": {
      "image/png": "[encoded data removed]",
      "text/plain": [
       "<Figure size 800x500 with 1 Axes>"
      ]
     },
     "metadata": {},
     "output_type": "display_data"
    }
   ],
   "source": [
    "plt.figure(figsize=(8, 5))\n",
    "sns.countplot(data=new_data, y='manufacturer', hue='manufacturer',  order=new_data['manufacturer'].value_counts().index, palette='pastel')\n",
    "plt.title(\"Manufacturer Distribution\")\n",
    "plt.xlabel(\"Count\")\n",
    "plt.ylabel(\"Manufacturer\")\n",
    "plt.show()\n"
   ]
  },
  {
   "cell_type": "code",
   "execution_count": 33,
   "metadata": {
    "execution": {
     "iopub.execute_input": "2023-05-23T09:26:16.952281Z",
     "iopub.status.busy": "2023-05-23T09:26:16.951869Z",
     "iopub.status.idle": "2023-05-23T09:26:18.891148Z",
     "shell.execute_reply": "2023-05-23T09:26:18.889947Z",
     "shell.execute_reply.started": "2023-05-23T09:26:16.952247Z"
    }
   },
   "outputs": [
    {
     "data": {
      "image/png": "[encoded data removed]",
      "text/plain": [
       "<Figure size 800x500 with 1 Axes>"
      ]
     },
     "metadata": {},
     "output_type": "display_data"
    }
   ],
   "source": [
    "plt.figure(figsize=(8, 5))\n",
    "sns.barplot(data=new_data, x='fuel', y='price', errorbar=None, palette='muted', hue='condition')\n",
    "plt.title(\"Average Price by Fuel Type\")\n",
    "plt.xlabel(\"Fuel Type\")\n",
    "plt.ylabel(\"Average Price\")\n",
    "plt.show()\n"
   ]
  },
  {
   "cell_type": "markdown",
   "metadata": {},
   "source": [
    "# **Data Preprocessing**"
   ]
  },
  {
   "cell_type": "code",
   "execution_count": 34,
   "metadata": {
    "execution": {
     "iopub.execute_input": "2023-05-23T09:27:53.544875Z",
     "iopub.status.busy": "2023-05-23T09:27:53.544363Z",
     "iopub.status.idle": "2023-05-23T09:27:53.553758Z",
     "shell.execute_reply": "2023-05-23T09:27:53.552658Z",
     "shell.execute_reply.started": "2023-05-23T09:27:53.54483Z"
    }
   },
   "outputs": [
    {
     "data": {
      "text/plain": [
       "Index(['region', 'price', 'manufacturer', 'model', 'condition', 'cylinders',\n",
       "       'fuel', 'odometer', 'title_status', 'transmission', 'drive', 'type',\n",
       "       'paint_color', 'car_age'],\n",
       "      dtype='object')"
      ]
     },
     "execution_count": 34,
     "metadata": {},
     "output_type": "execute_result"
    }
   ],
   "source": [
    "new_data.columns"
   ]
  },
  {
   "cell_type": "code",
   "execution_count": 35,
   "metadata": {
    "execution": {
     "iopub.execute_input": "2023-05-23T09:28:17.333491Z",
     "iopub.status.busy": "2023-05-23T09:28:17.332922Z",
     "iopub.status.idle": "2023-05-23T09:28:17.353154Z",
     "shell.execute_reply": "2023-05-23T09:28:17.351792Z",
     "shell.execute_reply.started": "2023-05-23T09:28:17.333424Z"
    }
   },
   "outputs": [],
   "source": [
    "final_df = new_data.copy()"
   ]
  },
  {
   "cell_type": "markdown",
   "metadata": {},
   "source": [
    "**Creating encoder and implimenting them into pipeline**"
   ]
  },
  {
   "cell_type": "code",
   "execution_count": 36,
   "metadata": {
    "execution": {
     "iopub.execute_input": "2023-05-23T09:31:25.815904Z",
     "iopub.status.busy": "2023-05-23T09:31:25.815483Z",
     "iopub.status.idle": "2023-05-23T09:31:25.822051Z",
     "shell.execute_reply": "2023-05-23T09:31:25.82092Z",
     "shell.execute_reply.started": "2023-05-23T09:31:25.81587Z"
    }
   },
   "outputs": [],
   "source": [
    "\n",
    "pipe_categorical = Pipeline(\n",
    "    steps = [('ordinal_encoder', OrdinalEncoder(categories = [[ 'salvage', 'fair', 'unknown', 'good', 'excellent', 'like new', 'new']])),\n",
    "             ('one_hot_encoder', OneHotEncoder(sparse_output = False, drop = 'first'))]\n",
    ")"
   ]
  },
  {
   "cell_type": "code",
   "execution_count": 37,
   "metadata": {
    "execution": {
     "iopub.execute_input": "2023-05-23T09:29:21.827076Z",
     "iopub.status.busy": "2023-05-23T09:29:21.826669Z",
     "iopub.status.idle": "2023-05-23T09:29:21.832755Z",
     "shell.execute_reply": "2023-05-23T09:29:21.831459Z",
     "shell.execute_reply.started": "2023-05-23T09:29:21.827041Z"
    }
   },
   "outputs": [],
   "source": [
    "\n",
    "pipe_numerical = Pipeline(\n",
    "    steps = [('standard_scaler', StandardScaler())]\n",
    ")"
   ]
  },
  {
   "cell_type": "code",
   "execution_count": 38,
   "metadata": {
    "execution": {
     "iopub.execute_input": "2023-05-23T09:31:56.921219Z",
     "iopub.status.busy": "2023-05-23T09:31:56.92081Z",
     "iopub.status.idle": "2023-05-23T09:31:56.927431Z",
     "shell.execute_reply": "2023-05-23T09:31:56.926532Z",
     "shell.execute_reply.started": "2023-05-23T09:31:56.921184Z"
    }
   },
   "outputs": [],
   "source": [
    "\n",
    "column_transformer = ColumnTransformer(transformers = [\n",
    "    ('condition_pipe_trans', pipe_categorical['ordinal_encoder'], ['condition']),\n",
    "    ('categorical_pipe_trans', pipe_categorical['one_hot_encoder'], ['model', 'region', 'manufacturer', 'fuel', 'cylinders','title_status', 'transmission', 'drive', 'type', 'paint_color']),\n",
    "    ('numerical_pipe_trans', pipe_numerical, ['odometer'])\n",
    "])"
   ]
  },
  {
   "cell_type": "markdown",
   "metadata": {},
   "source": [
    "**Splitting Dataset**"
   ]
  },
  {
   "cell_type": "code",
   "execution_count": 39,
   "metadata": {
    "execution": {
     "iopub.execute_input": "2023-05-23T09:30:27.152141Z",
     "iopub.status.busy": "2023-05-23T09:30:27.151708Z",
     "iopub.status.idle": "2023-05-23T09:30:27.388241Z",
     "shell.execute_reply": "2023-05-23T09:30:27.387079Z",
     "shell.execute_reply.started": "2023-05-23T09:30:27.152088Z"
    }
   },
   "outputs": [],
   "source": [
    "\n",
    "X_train, X_test, y_train, y_test = train_test_split(final_df.drop(['price'], axis = 1), final_df['price'], random_state = 42, test_size = .2)"
   ]
  },
  {
   "cell_type": "code",
   "execution_count": 40,
   "metadata": {
    "execution": {
     "iopub.execute_input": "2023-05-23T09:32:05.639138Z",
     "iopub.status.busy": "2023-05-23T09:32:05.638736Z",
     "iopub.status.idle": "2023-05-23T09:32:07.119923Z",
     "shell.execute_reply": "2023-05-23T09:32:07.118652Z",
     "shell.execute_reply.started": "2023-05-23T09:32:05.639089Z"
    }
   },
   "outputs": [],
   "source": [
    "\n",
    "X_train_trans = column_transformer.fit_transform(X_train)"
   ]
  },
  {
   "cell_type": "code",
   "execution_count": 41,
   "metadata": {
    "execution": {
     "iopub.execute_input": "2023-05-23T09:32:32.593665Z",
     "iopub.status.busy": "2023-05-23T09:32:32.593261Z",
     "iopub.status.idle": "2023-05-23T09:32:32.953497Z",
     "shell.execute_reply": "2023-05-23T09:32:32.952288Z",
     "shell.execute_reply.started": "2023-05-23T09:32:32.593633Z"
    }
   },
   "outputs": [],
   "source": [
    "\n",
    "X_test_trans = column_transformer.transform(X_test)"
   ]
  },
  {
   "cell_type": "markdown",
   "metadata": {},
   "source": [
    "# **Model Training**"
   ]
  },
  {
   "cell_type": "code",
   "execution_count": 42,
   "metadata": {
    "execution": {
     "iopub.execute_input": "2023-05-23T09:33:31.864323Z",
     "iopub.status.busy": "2023-05-23T09:33:31.863922Z",
     "iopub.status.idle": "2023-05-23T09:33:33.97607Z",
     "shell.execute_reply": "2023-05-23T09:33:33.974462Z",
     "shell.execute_reply.started": "2023-05-23T09:33:31.86429Z"
    }
   },
   "outputs": [],
   "source": [
    "from sklearn.metrics import mean_squared_error, mean_absolute_error,  r2_score, mean_squared_log_error\n",
    "from sklearn.ensemble import RandomForestRegressor\n",
    "from sklearn.linear_model import LinearRegression\n",
    "from sklearn.neighbors import KNeighborsRegressor\n",
    "from sklearn.ensemble import AdaBoostRegressor\n",
    "from sklearn.tree import DecisionTreeRegressor\n",
    "\n",
    "import warnings\n",
    "warnings.filterwarnings('ignore')"
   ]
  },
  {
   "cell_type": "code",
   "execution_count": 43,
   "metadata": {
    "execution": {
     "iopub.execute_input": "2023-05-23T09:35:52.954839Z",
     "iopub.status.busy": "2023-05-23T09:35:52.954448Z",
     "iopub.status.idle": "2023-05-23T09:35:52.963372Z",
     "shell.execute_reply": "2023-05-23T09:35:52.962117Z",
     "shell.execute_reply.started": "2023-05-23T09:35:52.954808Z"
    }
   },
   "outputs": [],
   "source": [
    "\n",
    "def results(y_test, y_pred):\n",
    "    print('R2_score = ' , '%.4f' % r2_score(y_test,y_pred))\n",
    "    print('MSE = ' '%.2f' % mean_squared_error(y_test, y_pred))\n",
    "    print('MAE = ' '%.2f' % mean_absolute_error(y_test, y_pred))\n",
    "    print('RMSE = ' '%.2f' % np.sqrt(mean_squared_error(y_test, y_pred)))\n"
   ]
  },
  {
   "cell_type": "markdown",
   "metadata": {},
   "source": [
    "**Linear Regression**"
   ]
  },
  {
   "cell_type": "code",
   "execution_count": 44,
   "metadata": {
    "execution": {
     "iopub.execute_input": "2023-05-23T09:35:59.106409Z",
     "iopub.status.busy": "2023-05-23T09:35:59.105985Z",
     "iopub.status.idle": "2023-05-23T09:36:02.61605Z",
     "shell.execute_reply": "2023-05-23T09:36:02.614429Z",
     "shell.execute_reply.started": "2023-05-23T09:35:59.106371Z"
    }
   },
   "outputs": [],
   "source": [
    "\n",
    "LR = LinearRegression().fit(X_train_trans, y_train)\n",
    "y_pred = LR.predict(X_test_trans)"
   ]
  },
  {
   "cell_type": "code",
   "execution_count": 45,
   "metadata": {
    "execution": {
     "iopub.execute_input": "2023-05-23T09:36:08.125267Z",
     "iopub.status.busy": "2023-05-23T09:36:08.12478Z",
     "iopub.status.idle": "2023-05-23T09:36:08.142973Z",
     "shell.execute_reply": "2023-05-23T09:36:08.141687Z",
     "shell.execute_reply.started": "2023-05-23T09:36:08.125229Z"
    }
   },
   "outputs": [
    {
     "name": "stdout",
     "output_type": "stream",
     "text": [
      "R2_score =  0.6523\n",
      "MSE = 50719246.91\n",
      "MAE = 5399.80\n",
      "RMSE = 7121.74\n"
     ]
    }
   ],
   "source": [
    "results(y_test, y_pred)"
   ]
  },
  {
   "cell_type": "markdown",
   "metadata": {},
   "source": [
    "**K-Nearest Neighbour**"
   ]
  },
  {
   "cell_type": "code",
   "execution_count": 46,
   "metadata": {
    "execution": {
     "iopub.execute_input": "2023-05-23T09:37:20.242125Z",
     "iopub.status.busy": "2023-05-23T09:37:20.241016Z",
     "iopub.status.idle": "2023-05-23T09:38:39.298874Z",
     "shell.execute_reply": "2023-05-23T09:38:39.297699Z",
     "shell.execute_reply.started": "2023-05-23T09:37:20.242068Z"
    }
   },
   "outputs": [
    {
     "name": "stdout",
     "output_type": "stream",
     "text": [
      "R2_score =  0.7891\n",
      "MSE = 30772263.26\n",
      "MAE = 3431.95\n",
      "RMSE = 5547.28\n"
     ]
    }
   ],
   "source": [
    "KNN = KNeighborsRegressor(n_neighbors=5).fit(X_train_trans, y_train)\n",
    "y_pred = KNN.predict(X_test_trans)\n",
    "results(y_test, y_pred)"
   ]
  },
  {
   "cell_type": "markdown",
   "metadata": {},
   "source": [
    "**Random Forest Regressor**"
   ]
  },
  {
   "cell_type": "code",
   "execution_count": 47,
   "metadata": {},
   "outputs": [
    {
     "name": "stdout",
     "output_type": "stream",
     "text": [
      "R2_score =  0.8603\n",
      "MSE = 20381801.77\n",
      "MAE = 2607.16\n",
      "RMSE = 4514.62\n"
     ]
    }
   ],
   "source": [
    "RFR = RandomForestRegressor(n_estimators=150,random_state=42, min_samples_leaf=1, max_features=0.3, n_jobs=-1, oob_score=True).fit(X_train_trans, y_train)\n",
    "y_pred = RFR.predict(X_test_trans)\n",
    "results(y_test, y_pred)"
   ]
  },
  {
   "cell_type": "markdown",
   "metadata": {},
   "source": [
    "**AdaBoost Regressor**"
   ]
  },
  {
   "cell_type": "code",
   "execution_count": 48,
   "metadata": {},
   "outputs": [
    {
     "name": "stdout",
     "output_type": "stream",
     "text": [
      "R2_score =  0.8501\n",
      "MSE = 21874943.89\n",
      "MAE = 2792.84\n",
      "RMSE = 4677.07\n"
     ]
    }
   ],
   "source": [
    "ABR = AdaBoostRegressor(DecisionTreeRegressor(max_depth=24),n_estimators=200,learning_rate=0.1).fit(X_train_trans, y_train)\n",
    "y_pred = ABR.predict(X_test_trans)\n",
    "results(y_test, y_pred)"
   ]
  },
  {
   "cell_type": "markdown",
   "metadata": {},
   "source": [
    "**Random Forest Regressor**"
   ]
  },
  {
   "cell_type": "code",
   "execution_count": 49,
   "metadata": {},
   "outputs": [
    {
     "name": "stdout",
     "output_type": "stream",
     "text": [
      "R2_score =  0.9048\n",
      "MSE = 13884855.67\n",
      "MAE = 2121.57\n",
      "RMSE = 3726.24\n"
     ]
    }
   ],
   "source": [
    "from sklearn.decomposition import TruncatedSVD\n",
    "from sklearn.ensemble import RandomForestRegressor\n",
    "from sklearn.metrics import mean_squared_error, r2_score\n",
    "from sklearn.compose import ColumnTransformer\n",
    "from sklearn.impute import SimpleImputer\n",
    "from sklearn.preprocessing import StandardScaler, OneHotEncoder\n",
    "from sklearn.pipeline import Pipeline\n",
    "\n",
    "# Defining the numerical and categorical features\n",
    "numeric_features = ['odometer', 'car_age']\n",
    "categorical_features = ['region', 'manufacturer', 'model', 'condition', 'cylinders', 'fuel', 'title_status', 'transmission', 'drive', 'type', 'paint_color']\n",
    "\n",
    "# Defining preprocessing steps for numerical and categorical features\n",
    "numeric_transformer = Pipeline(steps=[\n",
    "    ('imputer', SimpleImputer(strategy='median')),  # Imputing missing values with median\n",
    "    ('scaler', StandardScaler())  # Scale numerical features\n",
    "])\n",
    "\n",
    "categorical_transformer = Pipeline(steps=[\n",
    "    ('imputer', SimpleImputer(strategy='constant', fill_value='missing')),  # Imputing missing values with a constant value\n",
    "    ('onehot', OneHotEncoder(handle_unknown='ignore'))  # One-hot encode categorical features\n",
    "])\n",
    "\n",
    "# Combining preprocessing steps for numerical and categorical features\n",
    "preprocessor = ColumnTransformer(\n",
    "    transformers=[\n",
    "        ('num', numeric_transformer, numeric_features),\n",
    "        ('cat', categorical_transformer, categorical_features)\n",
    "    ])\n",
    "\n",
    "# Defining the pipeline including preprocessing and TruncatedSVD\n",
    "pipeline = Pipeline([\n",
    "    ('preprocessor', preprocessor),  # Step 1: Preprocessing\n",
    "    ('svd', TruncatedSVD(n_components=50)),  # Step 2: TruncatedSVD with a specific number of components\n",
    "    ('model', RandomForestRegressor(n_estimators=150, random_state=0, min_samples_leaf=1, max_features=0.3, n_jobs=-1, oob_score=True))  # Step 3: Random Forest Regressor\n",
    "])\n",
    "\n",
    "# Fitting the pipeline to the training data\n",
    "pipeline.fit(X_train, y_train)\n",
    "\n",
    "# Evaluating the pipeline on the test data\n",
    "y_pred = pipeline.predict(X_test)\n",
    "\n",
    "results(y_test, y_pred)\n"
   ]
  },
  {
   "cell_type": "code",
   "execution_count": null,
   "metadata": {},
   "outputs": [],
   "source": []
  },
  {
   "cell_type": "code",
   "execution_count": 50,
   "metadata": {},
   "outputs": [
    {
     "data": {
      "text/plain": [
       "Text(0, 0.5, 'Residuals')"
      ]
     },
     "execution_count": 50,
     "metadata": {},
     "output_type": "execute_result"
    },
    {
     "data": {
      "image/png": "[encoded data removed]",
      "text/plain": [
       "<Figure size 640x480 with 1 Axes>"
      ]
     },
     "metadata": {},
     "output_type": "display_data"
    }
   ],
   "source": [
    "# Add residual plot analysis\n",
    "residuals = y_test - y_pred\n",
    "plt.scatter(y_pred, residuals)\n",
    "plt.xlabel('Predicted Values')\n",
    "plt.ylabel('Residuals')"
   ]
  },
  {
   "cell_type": "code",
   "execution_count": 51,
   "metadata": {},
   "outputs": [],
   "source": [
    "# For predicting new car prices\n",
    "def predict_car_price(new_car_data):\n",
    "    # Make sure new_car_data has all required columns in the same format\n",
    "    required_columns = ['region', 'manufacturer', 'model', 'condition', \n",
    "                       'cylinders', 'fuel', 'title_status', 'transmission', \n",
    "                       'drive', 'type', 'paint_color', 'odometer', 'car_age']\n",
    "    \n",
    "    # Predict using the pipeline\n",
    "    predicted_price = pipeline.predict(new_car_data)\n",
    "    return predicted_price\n",
    "\n"
   ]
  },
  {
   "cell_type": "code",
   "execution_count": 52,
   "metadata": {},
   "outputs": [],
   "source": [
    "\n",
    "# Example usage:\n",
    "new_car = pd.DataFrame({\n",
    "    'region': ['seattle-tacoma'],\n",
    "    'manufacturer': ['toyota'],\n",
    "    'model': ['camry'],\n",
    "    'condition': ['excellent'],\n",
    "    'cylinders': ['4 cylinders'],\n",
    "    'fuel': ['gas'],\n",
    "    'title_status': ['clean'],\n",
    "    'transmission': ['automatic'],\n",
    "    'drive': ['fwd'],\n",
    "    'type': ['sedan'],\n",
    "    'paint_color': ['white'],\n",
    "    'odometer': [50000],\n",
    "    'car_age': [5]\n",
    " })\n",
    "predicted_price = predict_car_price(new_car)\n"
   ]
  },
  {
   "cell_type": "code",
   "execution_count": 53,
   "metadata": {},
   "outputs": [
    {
     "name": "stdout",
     "output_type": "stream",
     "text": [
      "Predicted car price: $17,017.71\n"
     ]
    }
   ],
   "source": [
    "print(f\"Predicted car price: ${predicted_price[0]:,.2f}\")"
   ]
  },
  {
   "cell_type": "code",
   "execution_count": 54,
   "metadata": {},
   "outputs": [],
   "source": [
    "# Let's try with multiple cars\n",
    "multiple_cars = pd.DataFrame({\n",
    "    'region': ['seattle-tacoma', 'portland', 'SF bay area'],\n",
    "    'manufacturer': ['toyota', 'honda', 'ford'],\n",
    "    'model': ['camry', 'civic', 'f-150'],\n",
    "    'condition': ['excellent', 'good', 'like new'],\n",
    "    'cylinders': ['4 cylinders', '4 cylinders', '8 cylinders'],\n",
    "    'fuel': ['gas', 'gas', 'gas'],\n",
    "    'title_status': ['clean', 'clean', 'clean'],\n",
    "    'transmission': ['automatic', 'automatic', 'automatic'],\n",
    "    'drive': ['fwd', 'fwd', '4wd'],\n",
    "    'type': ['sedan', 'sedan', 'pickup'],\n",
    "    'paint_color': ['white', 'black', 'red'],\n",
    "    'odometer': [50000, 80000, 30000],\n",
    "    'car_age': [5, 8, 3]\n",
    "})"
   ]
  },
  {
   "cell_type": "code",
   "execution_count": 55,
   "metadata": {},
   "outputs": [
    {
     "name": "stdout",
     "output_type": "stream",
     "text": [
      "\n",
      "Car 1:\n",
      "Model: toyota camry\n",
      "Predicted price: $17,017.71\n",
      "\n",
      "Car 2:\n",
      "Model: honda civic\n",
      "Predicted price: $12,356.41\n",
      "\n",
      "Car 3:\n",
      "Model: ford f-150\n",
      "Predicted price: $42,076.46\n"
     ]
    }
   ],
   "source": [
    "# Predict prices for multiple cars\n",
    "predicted_prices = predict_car_price(multiple_cars)\n",
    "for i, price in enumerate(predicted_prices):\n",
    "    print(f\"\\nCar {i+1}:\")\n",
    "    print(f\"Model: {multiple_cars.iloc[i]['manufacturer']} {multiple_cars.iloc[i]['model']}\")\n",
    "    print(f\"Predicted price: ${price:,.2f}\")"
   ]
  },
  {
   "cell_type": "code",
   "execution_count": 2,
   "metadata": {},
   "outputs": [
    {
     "name": "stdout",
     "output_type": "stream",
     "text": [
      "Word count for file Final Report.ipynb is 4156\n"
     ]
    }
   ],
   "source": [
    "import io\n",
    "import nbformat\n",
    "import glob\n",
    "nbfile = glob.glob('Final Report.ipynb')\n",
    "if len(nbfile) > 1:\n",
    "    print('More than one ipynb file. Using the first one.  nbfile=', nbfile)\n",
    "with io.open(nbfile[0], 'r', encoding='utf-8') as f:\n",
    "    nb = nbformat.read(f, nbformat.NO_CONVERT)\n",
    "word_count = 0\n",
    "for cell in nb.cells:\n",
    "    if cell.cell_type == \"markdown\":\n",
    "        word_count += len(cell['source'].replace('#', '').lstrip().split(' '))\n",
    "print('Word count for file', nbfile[0], 'is', word_count)"
   ]
  }
 ],
 "metadata": {
  "kaggle": {
   "accelerator": "none",
   "dataSources": [
    {
     "datasetId": 62920,
     "sourceId": 2201762,
     "sourceType": "datasetVersion"
    }
   ],
   "dockerImageVersionId": 30474,
   "isGpuEnabled": false,
   "isInternetEnabled": false,
   "language": "python",
   "sourceType": "notebook"
  },
  "kernelspec": {
   "display_name": "Python 3 (ipykernel)",
   "language": "python",
   "name": "python3"
  },
  "language_info": {
   "codemirror_mode": {
    "name": "ipython",
    "version": 3
   },
   "file_extension": ".py",
   "mimetype": "text/x-python",
   "name": "python",
   "nbconvert_exporter": "python",
   "pygments_lexer": "ipython3",
   "version": "3.12.2"
  }
 },
 "nbformat": 4,
 "nbformat_minor": 4
}
